{
 "cells": [
  {
   "cell_type": "code",
   "execution_count": 52,
   "metadata": {
    "collapsed": true
   },
   "outputs": [],
   "source": [
    "import pandas as pd\n",
    "from pandas import DataFrame\n",
    "import os\n",
    "import json"
   ]
  },
  {
   "cell_type": "code",
   "execution_count": 53,
   "outputs": [],
   "source": [
    "top_level_directories: list = ['v0.9', 'v1.0', 'v1.5', 'v1.5_quantized', 'v1.6', 'v1.6_backends', 'v1.6_quantized']\n",
    "# wordle | wordle_withclue | wordle_withcritic\n",
    "game: str = 'wordle_withcritic'\n",
    "\n",
    "# Change the variants according to the game above\n",
    "game_variants: list = [\n",
    "    '0_high_frequency_words_clue_with_critic', '1_medium_frequency_words_clue_with_critic', '2_low_frequency_words_clue_with_critic'\n",
    "]"
   ],
   "metadata": {
    "collapsed": false
   }
  },
  {
   "cell_type": "markdown",
   "source": [
    "# Structure\n",
    "\n",
    "The interactions.json file contains a turns array. The last element of the array contains the field\n",
    "action that itself is an object containing a field data_for_computation that holds the last game state and indicates how the game ended:\n",
    "Game Endings Are:\n",
    "- LOSS\n",
    "- WIN\n",
    "- ABORTED"
   ],
   "metadata": {
    "collapsed": false
   }
  },
  {
   "cell_type": "code",
   "execution_count": 54,
   "outputs": [],
   "source": [
    "df_dict: dict = {\n",
    "    'benchmark_version': [],\n",
    "    'model_id': [],\n",
    "    'difficulty': [],\n",
    "    'number_of_turns': [],\n",
    "    'end_of_game_type': [],\n",
    "    'episode_number': [],\n",
    "    'target_word': [],\n",
    "}"
   ],
   "metadata": {
    "collapsed": false
   }
  },
  {
   "cell_type": "code",
   "execution_count": 55,
   "outputs": [
    {
     "ename": "KeyboardInterrupt",
     "evalue": "",
     "output_type": "error",
     "traceback": [
      "\u001B[0;31m---------------------------------------------------------------------------\u001B[0m",
      "\u001B[0;31mKeyboardInterrupt\u001B[0m                         Traceback (most recent call last)",
      "Cell \u001B[0;32mIn[55], line 24\u001B[0m\n\u001B[1;32m     20\u001B[0m path_instances: \u001B[38;5;28mstr\u001B[39m \u001B[38;5;241m=\u001B[39m \u001B[38;5;124mf\u001B[39m\u001B[38;5;124m'\u001B[39m\u001B[38;5;124m./\u001B[39m\u001B[38;5;132;01m{\u001B[39;00mtop_level_directory\u001B[38;5;132;01m}\u001B[39;00m\u001B[38;5;124m/\u001B[39m\u001B[38;5;132;01m{\u001B[39;00mmodel_name\u001B[38;5;132;01m}\u001B[39;00m\u001B[38;5;124m/\u001B[39m\u001B[38;5;132;01m{\u001B[39;00mgame\u001B[38;5;132;01m}\u001B[39;00m\u001B[38;5;124m/\u001B[39m\u001B[38;5;132;01m{\u001B[39;00mgame_variant\u001B[38;5;132;01m}\u001B[39;00m\u001B[38;5;124m/\u001B[39m\u001B[38;5;132;01m{\u001B[39;00mepisode\u001B[38;5;132;01m}\u001B[39;00m\u001B[38;5;124m/instance.json\u001B[39m\u001B[38;5;124m'\u001B[39m\n\u001B[1;32m     22\u001B[0m \u001B[38;5;28;01mif\u001B[39;00m os\u001B[38;5;241m.\u001B[39mpath\u001B[38;5;241m.\u001B[39misfile(path_interactions) \u001B[38;5;129;01mand\u001B[39;00m os\u001B[38;5;241m.\u001B[39mpath\u001B[38;5;241m.\u001B[39misfile(path_instances):\n\u001B[1;32m     23\u001B[0m     \u001B[38;5;66;03m# open the interaction.json file to read all interactions\u001B[39;00m\n\u001B[0;32m---> 24\u001B[0m     \u001B[38;5;28;01mwith\u001B[39;00m \u001B[38;5;28;43mopen\u001B[39;49m\u001B[43m(\u001B[49m\u001B[43mpath_interactions\u001B[49m\u001B[43m,\u001B[49m\u001B[43m  \u001B[49m\u001B[43mencoding\u001B[49m\u001B[38;5;241;43m=\u001B[39;49m\u001B[38;5;124;43m\"\u001B[39;49m\u001B[38;5;124;43mutf8\u001B[39;49m\u001B[38;5;124;43m\"\u001B[39;49m\u001B[43m)\u001B[49m \u001B[38;5;28;01mas\u001B[39;00m json_file:\n\u001B[1;32m     25\u001B[0m         interactions: \u001B[38;5;28mdict\u001B[39m \u001B[38;5;241m=\u001B[39m json\u001B[38;5;241m.\u001B[39mload(json_file)\n\u001B[1;32m     27\u001B[0m         \u001B[38;5;66;03m# get the last turn of the interaction\u001B[39;00m\n",
      "File \u001B[0;32m~/Documents/GitHub/Semantic-Parsing-Research/venv/lib/python3.11/site-packages/IPython/core/interactiveshell.py:310\u001B[0m, in \u001B[0;36m_modified_open\u001B[0;34m(file, *args, **kwargs)\u001B[0m\n\u001B[1;32m    303\u001B[0m \u001B[38;5;28;01mif\u001B[39;00m file \u001B[38;5;129;01min\u001B[39;00m {\u001B[38;5;241m0\u001B[39m, \u001B[38;5;241m1\u001B[39m, \u001B[38;5;241m2\u001B[39m}:\n\u001B[1;32m    304\u001B[0m     \u001B[38;5;28;01mraise\u001B[39;00m \u001B[38;5;167;01mValueError\u001B[39;00m(\n\u001B[1;32m    305\u001B[0m         \u001B[38;5;124mf\u001B[39m\u001B[38;5;124m\"\u001B[39m\u001B[38;5;124mIPython won\u001B[39m\u001B[38;5;124m'\u001B[39m\u001B[38;5;124mt let you open fd=\u001B[39m\u001B[38;5;132;01m{\u001B[39;00mfile\u001B[38;5;132;01m}\u001B[39;00m\u001B[38;5;124m by default \u001B[39m\u001B[38;5;124m\"\u001B[39m\n\u001B[1;32m    306\u001B[0m         \u001B[38;5;124m\"\u001B[39m\u001B[38;5;124mas it is likely to crash IPython. If you know what you are doing, \u001B[39m\u001B[38;5;124m\"\u001B[39m\n\u001B[1;32m    307\u001B[0m         \u001B[38;5;124m\"\u001B[39m\u001B[38;5;124myou can use builtins\u001B[39m\u001B[38;5;124m'\u001B[39m\u001B[38;5;124m open.\u001B[39m\u001B[38;5;124m\"\u001B[39m\n\u001B[1;32m    308\u001B[0m     )\n\u001B[0;32m--> 310\u001B[0m \u001B[38;5;28;01mreturn\u001B[39;00m \u001B[43mio_open\u001B[49m\u001B[43m(\u001B[49m\u001B[43mfile\u001B[49m\u001B[43m,\u001B[49m\u001B[43m \u001B[49m\u001B[38;5;241;43m*\u001B[39;49m\u001B[43margs\u001B[49m\u001B[43m,\u001B[49m\u001B[43m \u001B[49m\u001B[38;5;241;43m*\u001B[39;49m\u001B[38;5;241;43m*\u001B[39;49m\u001B[43mkwargs\u001B[49m\u001B[43m)\u001B[49m\n",
      "File \u001B[0;32m<frozen codecs>:309\u001B[0m, in \u001B[0;36m__init__\u001B[0;34m(self, errors)\u001B[0m\n",
      "\u001B[0;31mKeyboardInterrupt\u001B[0m: "
     ]
    }
   ],
   "source": [
    "for top_level_directory in top_level_directories:\n",
    "    # loop over all directories with all variants of the benchmark\n",
    "    all_available_models: list = os.listdir(f'./{top_level_directory}')\n",
    "    # filter all files that are not a directory\n",
    "    all_available_models = [model_name for model_name in all_available_models if os.path.isdir(f'./{top_level_directory}/{model_name}')]\n",
    "    for model_name in all_available_models:\n",
    "        # for each model pick all episodes from the taboo game folder\n",
    "        for game_variant in game_variants:\n",
    "            path_to_episodes: str = f'./{top_level_directory}/{model_name}/{game}/{game_variant}'\n",
    "            if not  os.path.isdir(path_to_episodes):\n",
    "                continue\n",
    "\n",
    "            all_episodes: list =  os.listdir(path_to_episodes)\n",
    "            # filter all file names that do not start with episode to ensure to not read files without episodes\n",
    "            all_episodes = [episode for episode in all_episodes if episode.startswith('episode')]\n",
    "\n",
    "            # loop over all episodes to check whether an episode ended with success or any problems\n",
    "            for episode in all_episodes:\n",
    "                path_interactions: str = f'./{top_level_directory}/{model_name}/{game}/{game_variant}/{episode}/interactions.json'\n",
    "                path_instances: str = f'./{top_level_directory}/{model_name}/{game}/{game_variant}/{episode}/instance.json'\n",
    "\n",
    "                if os.path.isfile(path_interactions) and os.path.isfile(path_instances):\n",
    "                    # open the interaction.json file to read all interactions\n",
    "                    with open(path_interactions,  encoding=\"utf8\") as json_file:\n",
    "                        interactions: dict = json.load(json_file)\n",
    "\n",
    "                        # get the last turn of the interaction\n",
    "                        last_turn: list = interactions['turns'][-1]\n",
    "\n",
    "                        # get game ending\n",
    "                        game_ending: str = last_turn[-1]['action']['data_for_computation']['game_final_status']\n",
    "\n",
    "                        # get the target word\n",
    "\n",
    "                        target_word: str = last_turn[-1]['action']['data_for_computation']['target_word']\n",
    "\n",
    "                        # add information to df_dict\n",
    "                        df_dict['benchmark_version'].append(top_level_directory)\n",
    "                        df_dict['model_id'].append(model_name)\n",
    "                        df_dict['difficulty'].append(game_variant)\n",
    "                        df_dict['number_of_turns'].append(len(interactions['turns']))\n",
    "                        df_dict['end_of_game_type'].append(game_ending)\n",
    "                        df_dict['episode_number'].append(episode)\n",
    "                        df_dict['target_word'].append(target_word)"
   ],
   "metadata": {
    "collapsed": false
   }
  },
  {
   "cell_type": "code",
   "execution_count": null,
   "outputs": [],
   "source": [
    "data_df: DataFrame = DataFrame(data=df_dict)"
   ],
   "metadata": {
    "collapsed": false
   }
  },
  {
   "cell_type": "code",
   "execution_count": null,
   "outputs": [],
   "source": [
    "data_df.head()"
   ],
   "metadata": {
    "collapsed": false
   }
  },
  {
   "cell_type": "markdown",
   "source": [
    "# Print results in MD format\n",
    "\n",
    "| Benchmark Version          | Number of Episodes | Number of Successfully Played Episodes | Number of turns | Number of target words |\n",
    "|----------------------------|--------------------|----------------------------------------|-----------------|------------------------|"
   ],
   "metadata": {
    "collapsed": false
   }
  },
  {
   "cell_type": "code",
   "execution_count": null,
   "outputs": [],
   "source": [
    "print('| Benchmark Version          | Number of Episodes | Number of Successfully Played Episodes | Number of turns | Number of target words |')\n",
    "print('|----------------------------|--------------------|----------------------------------------|-----------------|------------------------|')\n",
    "for benchmark in top_level_directories:\n",
    "    data: DataFrame = data_df[data_df.benchmark_version == benchmark]\n",
    "    num_episodes: int = len(data)\n",
    "    number_wins: int = len(data[data.end_of_game_type == 'WIN'])\n",
    "    number_turns: int = data[data.end_of_game_type == 'WIN'].number_of_turns.sum()\n",
    "    target_words: int = len(data[data.end_of_game_type == 'WIN'].target_word.unique())\n",
    "    print(f'|{benchmark}|{num_episodes}|{number_wins}|{number_turns}|{target_words}|')\n",
    "\n"
   ],
   "metadata": {
    "collapsed": false
   }
  },
  {
   "cell_type": "code",
   "execution_count": 58,
   "outputs": [
    {
     "name": "stderr",
     "output_type": "stream",
     "text": [
      "/var/folders/3v/xyx3_dxn5d138hmbm5hdw_qw0000gn/T/ipykernel_47054/1116220501.py:1: FutureWarning: The behavior of 'to_datetime' with 'unit' when parsing strings is deprecated. In a future version, strings will be parsed as datetime strings, matching the behavior without a 'unit'. To retain the old behavior, explicitly cast ints or floats to numeric type before calling to_datetime.\n",
      "  data = pd.read_json('v0.9/claude-v1.3-t0.0--claude-v1.3-t0.0/privateshared/0_travel-booking/episode_0/scores.json')\n",
      "/var/folders/3v/xyx3_dxn5d138hmbm5hdw_qw0000gn/T/ipykernel_47054/1116220501.py:1: FutureWarning: The behavior of 'to_datetime' with 'unit' when parsing strings is deprecated. In a future version, strings will be parsed as datetime strings, matching the behavior without a 'unit'. To retain the old behavior, explicitly cast ints or floats to numeric type before calling to_datetime.\n",
      "  data = pd.read_json('v0.9/claude-v1.3-t0.0--claude-v1.3-t0.0/privateshared/0_travel-booking/episode_0/scores.json')\n",
      "/var/folders/3v/xyx3_dxn5d138hmbm5hdw_qw0000gn/T/ipykernel_47054/1116220501.py:1: FutureWarning: The behavior of 'to_datetime' with 'unit' when parsing strings is deprecated. In a future version, strings will be parsed as datetime strings, matching the behavior without a 'unit'. To retain the old behavior, explicitly cast ints or floats to numeric type before calling to_datetime.\n",
      "  data = pd.read_json('v0.9/claude-v1.3-t0.0--claude-v1.3-t0.0/privateshared/0_travel-booking/episode_0/scores.json')\n"
     ]
    }
   ],
   "source": [],
   "metadata": {
    "collapsed": false
   }
  },
  {
   "cell_type": "code",
   "execution_count": 61,
   "outputs": [
    {
     "name": "stdout",
     "output_type": "stream",
     "text": [
      "{'Request Count': 6, 'Parsed Request Count': 6, 'Violated Request Count': 0, 'Accuracy': 1.0, 'Slot Filled?': 1}\n"
     ]
    }
   ],
   "source": [],
   "metadata": {
    "collapsed": false
   }
  },
  {
   "cell_type": "code",
   "execution_count": null,
   "outputs": [],
   "source": [],
   "metadata": {
    "collapsed": false
   }
  }
 ],
 "metadata": {
  "kernelspec": {
   "display_name": "Python 3",
   "language": "python",
   "name": "python3"
  },
  "language_info": {
   "codemirror_mode": {
    "name": "ipython",
    "version": 2
   },
   "file_extension": ".py",
   "mimetype": "text/x-python",
   "name": "python",
   "nbconvert_exporter": "python",
   "pygments_lexer": "ipython2",
   "version": "2.7.6"
  }
 },
 "nbformat": 4,
 "nbformat_minor": 0
}
