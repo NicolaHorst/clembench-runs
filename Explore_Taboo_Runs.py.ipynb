{
 "cells": [
  {
   "cell_type": "code",
   "execution_count": 1,
   "id": "initial_id",
   "metadata": {
    "collapsed": true,
    "ExecuteTime": {
     "end_time": "2024-06-17T15:05:27.491972100Z",
     "start_time": "2024-06-17T15:05:26.970735600Z"
    }
   },
   "outputs": [],
   "source": [
    "import pandas as pd\n",
    "from pandas import DataFrame"
   ]
  },
  {
   "cell_type": "markdown",
   "source": [
    "# Notes:\n",
    "\n",
    "The file /interactions contains the complete game interactions of all players in each episode.\n",
    "\n",
    "A game is stored as JSON object with on key that is **turn** which contains an array of all turns.\n",
    "The last turn indicates whether a game ended successful or not.\n",
    "The turn object contains an action object with the key type. This action type can have the following values:\n",
    "- \"correct guess\" -> indicates that a game ended with a correct guess of the player\n",
    "- \"invalid format\" -> indicates that a game ended because the answer format was incorrect. This can happen when a related word was used or the output is not in the CLUE: \\< ... \\> Format\n",
    "- \"max turns reached\" -> indicates that a game ended because the maximum amount of turns is reached"
   ],
   "metadata": {
    "collapsed": false
   },
   "id": "bef810b0e326cc72"
  },
  {
   "cell_type": "code",
   "execution_count": 15,
   "outputs": [],
   "source": [
    "base_path_llama3_70B: str = './v1.6/Meta-Llama-3-70B-Instruct-hf-t0.0--Meta-Llama-3-70B-Instruct-hf-t0.0/'\n",
    "game: str = 'taboo/2_low_en/'\n",
    "episode: str = 'episode_0/'\n",
    "\n",
    "instance_data: DataFrame = pd.read_json(base_path_llama3_70B + game + episode + 'instance.json')\n",
    "request_data: DataFrame = pd.read_json(base_path_llama3_70B + game + episode + 'requests.json')"
   ],
   "metadata": {
    "collapsed": false,
    "ExecuteTime": {
     "end_time": "2024-06-17T15:08:42.962040400Z",
     "start_time": "2024-06-17T15:08:42.931039900Z"
    }
   },
   "id": "37c5e7fade1bf8a8"
  },
  {
   "cell_type": "code",
   "execution_count": 16,
   "outputs": [
    {
     "data": {
      "text/plain": "   game_id target_word related_word target_word_stem related_word_stem\n0        0   autograph    signature        autograph          signatur\n1        0   autograph         hand        autograph              hand\n2        0   autograph         sign        autograph              sign",
      "text/html": "<div>\n<style scoped>\n    .dataframe tbody tr th:only-of-type {\n        vertical-align: middle;\n    }\n\n    .dataframe tbody tr th {\n        vertical-align: top;\n    }\n\n    .dataframe thead th {\n        text-align: right;\n    }\n</style>\n<table border=\"1\" class=\"dataframe\">\n  <thead>\n    <tr style=\"text-align: right;\">\n      <th></th>\n      <th>game_id</th>\n      <th>target_word</th>\n      <th>related_word</th>\n      <th>target_word_stem</th>\n      <th>related_word_stem</th>\n    </tr>\n  </thead>\n  <tbody>\n    <tr>\n      <th>0</th>\n      <td>0</td>\n      <td>autograph</td>\n      <td>signature</td>\n      <td>autograph</td>\n      <td>signatur</td>\n    </tr>\n    <tr>\n      <th>1</th>\n      <td>0</td>\n      <td>autograph</td>\n      <td>hand</td>\n      <td>autograph</td>\n      <td>hand</td>\n    </tr>\n    <tr>\n      <th>2</th>\n      <td>0</td>\n      <td>autograph</td>\n      <td>sign</td>\n      <td>autograph</td>\n      <td>sign</td>\n    </tr>\n  </tbody>\n</table>\n</div>"
     },
     "execution_count": 16,
     "metadata": {},
     "output_type": "execute_result"
    }
   ],
   "source": [
    "instance_data.head()"
   ],
   "metadata": {
    "collapsed": false,
    "ExecuteTime": {
     "end_time": "2024-06-17T15:08:46.395605100Z",
     "start_time": "2024-06-17T15:08:46.352896400Z"
    }
   },
   "id": "b4a1b24aacf9711b"
  },
  {
   "cell_type": "code",
   "execution_count": 4,
   "outputs": [
    {
     "data": {
      "text/plain": "                   timestamp  \\\n0 2024-05-28 09:08:55.997695   \n1 2024-05-28 09:09:00.340713   \n\n                              manipulated_prompt_obj  \\\n0  {'inputs': '<|begin_of_text|><|start_header_id...   \n1  {'inputs': '<|begin_of_text|><|start_header_id...   \n\n                                    raw_response_obj  \n0  {'response': '<|begin_of_text|><|start_header_...  \n1  {'response': '<|begin_of_text|><|start_header_...  ",
      "text/html": "<div>\n<style scoped>\n    .dataframe tbody tr th:only-of-type {\n        vertical-align: middle;\n    }\n\n    .dataframe tbody tr th {\n        vertical-align: top;\n    }\n\n    .dataframe thead th {\n        text-align: right;\n    }\n</style>\n<table border=\"1\" class=\"dataframe\">\n  <thead>\n    <tr style=\"text-align: right;\">\n      <th></th>\n      <th>timestamp</th>\n      <th>manipulated_prompt_obj</th>\n      <th>raw_response_obj</th>\n    </tr>\n  </thead>\n  <tbody>\n    <tr>\n      <th>0</th>\n      <td>2024-05-28 09:08:55.997695</td>\n      <td>{'inputs': '&lt;|begin_of_text|&gt;&lt;|start_header_id...</td>\n      <td>{'response': '&lt;|begin_of_text|&gt;&lt;|start_header_...</td>\n    </tr>\n    <tr>\n      <th>1</th>\n      <td>2024-05-28 09:09:00.340713</td>\n      <td>{'inputs': '&lt;|begin_of_text|&gt;&lt;|start_header_id...</td>\n      <td>{'response': '&lt;|begin_of_text|&gt;&lt;|start_header_...</td>\n    </tr>\n  </tbody>\n</table>\n</div>"
     },
     "execution_count": 4,
     "metadata": {},
     "output_type": "execute_result"
    }
   ],
   "source": [
    "request_data.head()"
   ],
   "metadata": {
    "collapsed": false,
    "ExecuteTime": {
     "end_time": "2024-06-17T15:08:53.388530Z",
     "start_time": "2024-06-17T15:08:53.362896800Z"
    }
   },
   "id": "854d0e98809869c0"
  },
  {
   "cell_type": "code",
   "execution_count": 5,
   "outputs": [
    {
     "name": "stdout",
     "output_type": "stream",
     "text": [
      "<|begin_of_text|><|start_header_id|>user<|end_header_id|>\n",
      "\n",
      "You are playing a collaborative word guessing game in which you have to guess a target word that another player describes to you.\n",
      "\n",
      "You can make one guess at each trial. You win when you guess the target word. You lose when you cannot guess it in 3 tries.\n",
      "\n",
      "After each trial you will get a new hint from the other player which starts with CLUE.\n",
      "\n",
      "Make your guesses by just saying the word using the following form: GUESS: <a word>\n",
      "\n",
      "Let us start.\n",
      "\n",
      "\n",
      "CLUE: Written confirmation of identity by a famous person.<|eot_id|><|start_header_id|>assistant<|end_header_id|>\n",
      "\n",
      "\n"
     ]
    }
   ],
   "source": [
    "print(request_data.manipulated_prompt_obj.iloc[1]['inputs'])"
   ],
   "metadata": {
    "collapsed": false,
    "ExecuteTime": {
     "end_time": "2024-06-17T15:14:46.988205600Z",
     "start_time": "2024-06-17T15:14:46.972205700Z"
    }
   },
   "id": "a6c0c52027a2bf7d"
  },
  {
   "cell_type": "code",
   "execution_count": 6,
   "outputs": [
    {
     "name": "stdout",
     "output_type": "stream",
     "text": [
      "<|begin_of_text|><|start_header_id|>user<|end_header_id|>\n",
      "\n",
      "You are playing a collaborative word guessing game in which you have to guess a target word that another player describes to you.\n",
      "\n",
      "You can make one guess at each trial. You win when you guess the target word. You lose when you cannot guess it in 3 tries.\n",
      "\n",
      "After each trial you will get a new hint from the other player which starts with CLUE.\n",
      "\n",
      "Make your guesses by just saying the word using the following form: GUESS: <a word>\n",
      "\n",
      "Let us start.\n",
      "\n",
      "\n",
      "CLUE: Written confirmation of identity by a famous person.<|eot_id|><|start_header_id|>assistant<|end_header_id|>\n",
      "\n",
      "GUESS: Autograph<|eot_id|>\n"
     ]
    }
   ],
   "source": [
    "print(request_data.raw_response_obj.iloc[1]['response'])"
   ],
   "metadata": {
    "collapsed": false,
    "ExecuteTime": {
     "end_time": "2024-06-17T15:15:15.491910800Z",
     "start_time": "2024-06-17T15:15:15.471910700Z"
    }
   },
   "id": "cba9a8eff2578744"
  },
  {
   "cell_type": "code",
   "execution_count": 23,
   "outputs": [],
   "source": [
    "import os\n",
    "import plotly.graph_objects as go\n",
    "import json"
   ],
   "metadata": {
    "collapsed": false,
    "ExecuteTime": {
     "end_time": "2024-06-18T16:49:47.717477800Z",
     "start_time": "2024-06-18T16:49:47.689468800Z"
    }
   },
   "id": "f70b52b32f8cb6cd"
  },
  {
   "cell_type": "code",
   "execution_count": 24,
   "outputs": [],
   "source": [
    "top_level_directories: list = ['v0.9', 'v1.0', 'v1.5', 'v1.5_quantized', 'v1.6', 'v1.6_backends', 'v1.6_quantized']\n",
    "game: str = 'taboo'\n",
    "game_variants: list = ['0_high_en', '1_medium_en', '2_low_en']"
   ],
   "metadata": {
    "collapsed": false,
    "ExecuteTime": {
     "end_time": "2024-06-18T16:49:48.304273600Z",
     "start_time": "2024-06-18T16:49:48.279179400Z"
    }
   },
   "id": "c4bcaa523e7beaae"
  },
  {
   "cell_type": "code",
   "execution_count": 31,
   "outputs": [],
   "source": [
    "# Store general information about the amount of episodes and how they ended\n",
    "episodes: dict = {\n",
    "    'available_episodes': 0,\n",
    "    '0_high_en': {\n",
    "        'total_episodes': 0,\n",
    "        'correct guess': 0,\n",
    "        'invalid format': 0,\n",
    "        'max turns reached': 0,\n",
    "        'invalid clue': 0,\n",
    "    },\n",
    "    '1_medium_en': {\n",
    "        'total_episodes': 0,\n",
    "        'correct guess': 0,\n",
    "        'invalid format': 0,\n",
    "        'max turns reached': 0,\n",
    "        'invalid clue': 0,\n",
    "    },\n",
    "    '2_low_en': {\n",
    "        'total_episodes': 0,\n",
    "        'correct guess': 0,\n",
    "        'invalid format': 0,\n",
    "        'max turns reached': 0,\n",
    "        'invalid clue': 0,\n",
    "    },\n",
    "}\n",
    "\n",
    "# collect information about the different game domains\n",
    "unique_game_domains: dict = {}\n",
    "\n",
    "# collect information in dataframe format\n",
    "df_dict: dict = {\n",
    "    'benchmark_version': [],\n",
    "    'model_id': [],\n",
    "    'difficulty': [],\n",
    "    'number_of_turns': [],\n",
    "    'end_of_game_type': [],\n",
    "    'episode_number': [],\n",
    "    'target_word': [],\n",
    "}\n",
    "\n",
    "for top_level_directory in top_level_directories:\n",
    "    # loop over all directories with all variants of the benchmark\n",
    "    all_available_models: list = os.listdir(f'./{top_level_directory}')\n",
    "    # filter all files that are not a directory\n",
    "    all_available_models = [model_name for model_name in all_available_models if os.path.isdir(f'./{top_level_directory}/{model_name}')]\n",
    "    for model_name in all_available_models:\n",
    "        # for each model pick all episodes from the taboo game folder\n",
    "        for game_variant in game_variants:\n",
    "            all_episodes: list =  os.listdir(f'./{top_level_directory}/{model_name}/{game}/{game_variant}')\n",
    "            # filter all file names that do not start with episode to ensure to not read files without episodes\n",
    "            all_episodes = [episode for episode in all_episodes if episode.startswith('episode')]\n",
    "            \n",
    "            # count the number of all episodes\n",
    "            episodes['available_episodes'] += len(all_episodes)\n",
    "            # count the number of episodes of a particular game variant\n",
    "            episodes[game_variant]['total_episodes'] += len(all_episodes)\n",
    "            \n",
    "            # loop over all episodes to check whether an episode ended with success or any problems\n",
    "            for episode in all_episodes:\n",
    "                path_interactions: str = f'./{top_level_directory}/{model_name}/{game}/{game_variant}/{episode}/interactions.json'\n",
    "                path_instances: str = f'./{top_level_directory}/{model_name}/{game}/{game_variant}/{episode}/instance.json'\n",
    "\n",
    "                if os.path.isfile(path_interactions) and os.path.isfile(path_instances):\n",
    "                    # open the interaction.json file to read all interactions\n",
    "                    with open(path_interactions,  encoding=\"utf8\") as json_file:\n",
    "                        interactions: dict = json.load(json_file)\n",
    "                        \n",
    "                        # get the last turn of the interaction\n",
    "                        last_turn: list = interactions['turns'][-1]\n",
    "                        \n",
    "                        # get game ending \n",
    "                        game_ending: str = last_turn[-1]['action']['type']\n",
    "                        \n",
    "                        # add game ending\n",
    "                        episodes[game_variant][game_ending] += 1\n",
    "\n",
    "                        # add information to df_dict\n",
    "                        df_dict['benchmark_version'].append(top_level_directory)\n",
    "                        df_dict['model_id'].append(model_name)\n",
    "                        df_dict['difficulty'].append(game_variant)\n",
    "                        df_dict['number_of_turns'].append(len(interactions['turns']))\n",
    "                        df_dict['end_of_game_type'].append(game_ending)\n",
    "                        df_dict['episode_number'].append(episode)\n",
    "\n",
    "                    # open the instance.json file to collect information about the domain of the game\n",
    "                    instance_data: DataFrame = pd.read_json(path_instances)\n",
    "                    target_word: str = instance_data.target_word.iloc[0]\n",
    "\n",
    "                    df_dict['target_word'].append(target_word)"
   ],
   "metadata": {
    "collapsed": false,
    "ExecuteTime": {
     "end_time": "2024-06-18T17:01:04.922174100Z",
     "start_time": "2024-06-18T17:01:02.869120200Z"
    }
   },
   "id": "86a3cfa0dae813e6"
  },
  {
   "cell_type": "code",
   "execution_count": 42,
   "outputs": [
    {
     "data": {
      "text/plain": "target_word\nobvious           79\nresponsibility    78\nshark             78\nfilter            77\nregret            76\n                  ..\nslovak             4\nmark               4\ncameroon           2\nstatute            2\ndiy                1\nName: count, Length: 117, dtype: int64"
     },
     "execution_count": 42,
     "metadata": {},
     "output_type": "execute_result"
    }
   ],
   "source": [
    "data_df: DataFrame = DataFrame(data=df_dict)\n",
    "data_df[data_df.end_of_game_type == 'correct guess'].target_word.value_counts()"
   ],
   "metadata": {
    "collapsed": false
   }
  },
  {
   "cell_type": "code",
   "execution_count": 50,
   "outputs": [
    {
     "name": "stdout",
     "output_type": "stream",
     "text": [
      "There is a total of: 9843 episodes available\n",
      "With a total of 119 unique target words\n",
      "and a total of 14825 played turns. Each turn is a pair of Clue and Guess.\n",
      "\n",
      "Within those 9843 episodes, only 3481 were finished successfully\n",
      "3655 ended due to invalid answer formatting, 580 ended while the maximum umber of turns was reached, and 2127 ended because invalid clues were provided.\n",
      "\n",
      "Within the 3481 sucessfully played games, there is a total of 117 unique target words and a total of 4203 played turns\n"
     ]
    }
   ],
   "source": [
    "print(f'There is a total of: {len(data_df)} episodes available')\n",
    "print(f'With a total of {len(data_df.target_word.unique())} unique target words')\n",
    "print(f'and a total of {data_df.number_of_turns.sum()} played turns. Each turn is a pair of Clue and Guess.')\n",
    "print()\n",
    "print(f'Within those {len(data_df)} episodes, only {len(data_df[data_df.end_of_game_type == \"correct guess\"])} were finished successfully')\n",
    "print(f'{len(data_df[data_df.end_of_game_type == \"invalid format\"])} ended due to invalid answer formatting, {len(data_df[data_df.end_of_game_type == \"max turns reached\"])} ended while the maximum umber of turns was reached, and {len(data_df[data_df.end_of_game_type == \"invalid clue\"])} ended because invalid clues were provided.')\n",
    "print()\n",
    "print(f'Within the {len(data_df[data_df.end_of_game_type == \"correct guess\"])} sucessfully played games, there is a total of {len(data_df[data_df.end_of_game_type == \"correct guess\"].target_word.value_counts())} unique target words and a total of {data_df[data_df.end_of_game_type == \"correct guess\"].number_of_turns.sum()} played turns')"
   ],
   "metadata": {
    "collapsed": false
   }
  },
  {
   "cell_type": "code",
   "execution_count": 69,
   "outputs": [
    {
     "name": "stdout",
     "output_type": "stream",
     "text": [
      "***** Benchmark Version v0.9 *****\n",
      "Number of Episodes:                            644\n",
      "Number of Successfully Played Episodes:        193\n",
      "Number of turns:                               226\n",
      "Number of target words:                        52\n",
      "***** Benchmark Version v1.0 *****\n",
      "Number of Episodes:                           2419\n",
      "Number of Successfully Played Episodes:        641\n",
      "Number of turns:                               739\n",
      "Number of target words:                        57\n",
      "***** Benchmark Version v1.5 *****\n",
      "Number of Episodes:                           2400\n",
      "Number of Successfully Played Episodes:        909\n",
      "Number of turns:                              1068\n",
      "Number of target words:                        60\n",
      "***** Benchmark Version v1.5_quantized *****\n",
      "Number of Episodes:                            480\n",
      "Number of Successfully Played Episodes:        131\n",
      "Number of turns:                               163\n",
      "Number of target words:                        51\n",
      "***** Benchmark Version v1.6 *****\n",
      "Number of Episodes:                           3180\n",
      "Number of Successfully Played Episodes:       1221\n",
      "Number of turns:                              1488\n",
      "Number of target words:                        60\n",
      "***** Benchmark Version v1.6_backends *****\n",
      "Number of Episodes:                            360\n",
      "Number of Successfully Played Episodes:        224\n",
      "Number of turns:                               326\n",
      "Number of target words:                        53\n",
      "***** Benchmark Version v1.6_quantized *****\n",
      "Number of Episodes:                            360\n",
      "Number of Successfully Played Episodes:        162\n",
      "Number of turns:                               193\n",
      "Number of target words:                        49\n"
     ]
    }
   ],
   "source": [
    "for benchmark_version in top_level_directories:\n",
    "    all_data: DataFrame = data_df[data_df.benchmark_version == benchmark_version]\n",
    "\n",
    "    print(f'***** Benchmark Version {benchmark_version} *****')\n",
    "    print(f'Number of Episodes: {len(all_data): > 30}')\n",
    "    print(f'Number of Successfully Played Episodes: {len(all_data[all_data.end_of_game_type == \"correct guess\"]): > 10}')\n",
    "    print(f'Number of turns: {all_data[all_data.end_of_game_type == \"correct guess\"].number_of_turns.sum(): > 33}')\n",
    "    print(f'Number of target words: {len(all_data[all_data.end_of_game_type == \"correct guess\"].target_word.value_counts()): > 25}')"
   ],
   "metadata": {
    "collapsed": false
   }
  },
  {
   "cell_type": "markdown",
   "source": [
    "| Benchmark Version          | Number of Episodes | Number of Successfully Played Episodes | Number of turns | Number of target words |\n",
    "|----------------------------|--------------------|----------------------------------------|-----------------|------------------------|\n",
    "| v0.9                       | 644                | 193                                    | 226             | 52                     |\n",
    "| v1.0                       | 2419               | 641                                    | 739             | 57                     |\n",
    "| v1.5                       | 2400               | 909                                    | 1068            | 60                     |\n",
    "| v1.5_quantized             | 480                | 131                                    | 163             | 51                     |\n",
    "| v1.6                       | 3180               | 1221                                   | 1488            | 60                     |\n",
    "| v1.6_backends              | 360                | 224                                    | 326             | 53                     |\n",
    "| v1.6_quantized             | 360                | 162                                    | 193             | 49                     |\n"
   ],
   "metadata": {
    "collapsed": false
   }
  },
  {
   "cell_type": "code",
   "execution_count": 70,
   "outputs": [],
   "source": [
    "df_dict: dict = {\n",
    "    'game_id': [],\n",
    "    'benchmark_version': [],\n",
    "    'model_id': [],\n",
    "    'difficulty': [],\n",
    "    'number_of_turns': [],\n",
    "    'end_of_game_type': [],\n",
    "    'episode_number': [],\n",
    "    'target_word': [],\n",
    "}"
   ],
   "metadata": {
    "collapsed": false
   }
  },
  {
   "cell_type": "code",
   "execution_count": 71,
   "outputs": [
    {
     "data": {
      "application/vnd.plotly.v1+json": {
       "data": [
        {
         "link": {
          "color": [
           "#a6dced",
           "#a6dced",
           "#a6dced",
           "#89c289",
           "#f2a1a5",
           "#f2a1a5",
           "#f2a1a5",
           "#89c289",
           "#f2a1a5",
           "#f2a1a5",
           "#f2a1a5",
           "#89c289",
           "#f2a1a5",
           "#f2a1a5",
           "#f2a1a5"
          ],
          "source": [
           0,
           0,
           0,
           1,
           1,
           1,
           1,
           2,
           2,
           2,
           2,
           3,
           3,
           3,
           3
          ],
          "target": [
           1,
           2,
           3,
           4,
           5,
           6,
           7,
           4,
           5,
           6,
           7,
           4,
           5,
           6,
           7
          ],
          "value": [
           3300,
           3300,
           3300,
           1271,
           1191,
           224,
           608,
           1035,
           1244,
           205,
           765,
           1175,
           1220,
           151,
           754
          ]
         },
         "node": {
          "color": [
           "#a6dced",
           "#a6dced",
           "#a6dced",
           "#a6dced",
           "#89c289",
           "#f2a1a5",
           "#f2a1a5",
           "#f2a1a5"
          ],
          "label": [
           "Total Episodes of Taboo Played",
           "Category: High English",
           "Category: Medium English",
           "Category: Low English",
           "Game Ending: Correct Guess",
           "Game Ending: Invalid Format",
           "Game Ending: Max Turns Reached",
           "Game Ending: Invalid Clue"
          ],
          "line": {
           "color": "black",
           "width": 0.5
          },
          "pad": 15,
          "thickness": 20
         },
         "type": "sankey"
        }
       ],
       "layout": {
        "template": {
         "data": {
          "histogram2dcontour": [
           {
            "type": "histogram2dcontour",
            "colorbar": {
             "outlinewidth": 0,
             "ticks": ""
            },
            "colorscale": [
             [
              0.0,
              "#0d0887"
             ],
             [
              0.1111111111111111,
              "#46039f"
             ],
             [
              0.2222222222222222,
              "#7201a8"
             ],
             [
              0.3333333333333333,
              "#9c179e"
             ],
             [
              0.4444444444444444,
              "#bd3786"
             ],
             [
              0.5555555555555556,
              "#d8576b"
             ],
             [
              0.6666666666666666,
              "#ed7953"
             ],
             [
              0.7777777777777778,
              "#fb9f3a"
             ],
             [
              0.8888888888888888,
              "#fdca26"
             ],
             [
              1.0,
              "#f0f921"
             ]
            ]
           }
          ],
          "choropleth": [
           {
            "type": "choropleth",
            "colorbar": {
             "outlinewidth": 0,
             "ticks": ""
            }
           }
          ],
          "histogram2d": [
           {
            "type": "histogram2d",
            "colorbar": {
             "outlinewidth": 0,
             "ticks": ""
            },
            "colorscale": [
             [
              0.0,
              "#0d0887"
             ],
             [
              0.1111111111111111,
              "#46039f"
             ],
             [
              0.2222222222222222,
              "#7201a8"
             ],
             [
              0.3333333333333333,
              "#9c179e"
             ],
             [
              0.4444444444444444,
              "#bd3786"
             ],
             [
              0.5555555555555556,
              "#d8576b"
             ],
             [
              0.6666666666666666,
              "#ed7953"
             ],
             [
              0.7777777777777778,
              "#fb9f3a"
             ],
             [
              0.8888888888888888,
              "#fdca26"
             ],
             [
              1.0,
              "#f0f921"
             ]
            ]
           }
          ],
          "heatmap": [
           {
            "type": "heatmap",
            "colorbar": {
             "outlinewidth": 0,
             "ticks": ""
            },
            "colorscale": [
             [
              0.0,
              "#0d0887"
             ],
             [
              0.1111111111111111,
              "#46039f"
             ],
             [
              0.2222222222222222,
              "#7201a8"
             ],
             [
              0.3333333333333333,
              "#9c179e"
             ],
             [
              0.4444444444444444,
              "#bd3786"
             ],
             [
              0.5555555555555556,
              "#d8576b"
             ],
             [
              0.6666666666666666,
              "#ed7953"
             ],
             [
              0.7777777777777778,
              "#fb9f3a"
             ],
             [
              0.8888888888888888,
              "#fdca26"
             ],
             [
              1.0,
              "#f0f921"
             ]
            ]
           }
          ],
          "heatmapgl": [
           {
            "type": "heatmapgl",
            "colorbar": {
             "outlinewidth": 0,
             "ticks": ""
            },
            "colorscale": [
             [
              0.0,
              "#0d0887"
             ],
             [
              0.1111111111111111,
              "#46039f"
             ],
             [
              0.2222222222222222,
              "#7201a8"
             ],
             [
              0.3333333333333333,
              "#9c179e"
             ],
             [
              0.4444444444444444,
              "#bd3786"
             ],
             [
              0.5555555555555556,
              "#d8576b"
             ],
             [
              0.6666666666666666,
              "#ed7953"
             ],
             [
              0.7777777777777778,
              "#fb9f3a"
             ],
             [
              0.8888888888888888,
              "#fdca26"
             ],
             [
              1.0,
              "#f0f921"
             ]
            ]
           }
          ],
          "contourcarpet": [
           {
            "type": "contourcarpet",
            "colorbar": {
             "outlinewidth": 0,
             "ticks": ""
            }
           }
          ],
          "contour": [
           {
            "type": "contour",
            "colorbar": {
             "outlinewidth": 0,
             "ticks": ""
            },
            "colorscale": [
             [
              0.0,
              "#0d0887"
             ],
             [
              0.1111111111111111,
              "#46039f"
             ],
             [
              0.2222222222222222,
              "#7201a8"
             ],
             [
              0.3333333333333333,
              "#9c179e"
             ],
             [
              0.4444444444444444,
              "#bd3786"
             ],
             [
              0.5555555555555556,
              "#d8576b"
             ],
             [
              0.6666666666666666,
              "#ed7953"
             ],
             [
              0.7777777777777778,
              "#fb9f3a"
             ],
             [
              0.8888888888888888,
              "#fdca26"
             ],
             [
              1.0,
              "#f0f921"
             ]
            ]
           }
          ],
          "surface": [
           {
            "type": "surface",
            "colorbar": {
             "outlinewidth": 0,
             "ticks": ""
            },
            "colorscale": [
             [
              0.0,
              "#0d0887"
             ],
             [
              0.1111111111111111,
              "#46039f"
             ],
             [
              0.2222222222222222,
              "#7201a8"
             ],
             [
              0.3333333333333333,
              "#9c179e"
             ],
             [
              0.4444444444444444,
              "#bd3786"
             ],
             [
              0.5555555555555556,
              "#d8576b"
             ],
             [
              0.6666666666666666,
              "#ed7953"
             ],
             [
              0.7777777777777778,
              "#fb9f3a"
             ],
             [
              0.8888888888888888,
              "#fdca26"
             ],
             [
              1.0,
              "#f0f921"
             ]
            ]
           }
          ],
          "mesh3d": [
           {
            "type": "mesh3d",
            "colorbar": {
             "outlinewidth": 0,
             "ticks": ""
            }
           }
          ],
          "scatter": [
           {
            "marker": {
             "line": {
              "color": "#283442"
             }
            },
            "type": "scatter"
           }
          ],
          "parcoords": [
           {
            "type": "parcoords",
            "line": {
             "colorbar": {
              "outlinewidth": 0,
              "ticks": ""
             }
            }
           }
          ],
          "scatterpolargl": [
           {
            "type": "scatterpolargl",
            "marker": {
             "colorbar": {
              "outlinewidth": 0,
              "ticks": ""
             }
            }
           }
          ],
          "bar": [
           {
            "error_x": {
             "color": "#f2f5fa"
            },
            "error_y": {
             "color": "#f2f5fa"
            },
            "marker": {
             "line": {
              "color": "rgb(17,17,17)",
              "width": 0.5
             },
             "pattern": {
              "fillmode": "overlay",
              "size": 10,
              "solidity": 0.2
             }
            },
            "type": "bar"
           }
          ],
          "scattergeo": [
           {
            "type": "scattergeo",
            "marker": {
             "colorbar": {
              "outlinewidth": 0,
              "ticks": ""
             }
            }
           }
          ],
          "scatterpolar": [
           {
            "type": "scatterpolar",
            "marker": {
             "colorbar": {
              "outlinewidth": 0,
              "ticks": ""
             }
            }
           }
          ],
          "histogram": [
           {
            "marker": {
             "pattern": {
              "fillmode": "overlay",
              "size": 10,
              "solidity": 0.2
             }
            },
            "type": "histogram"
           }
          ],
          "scattergl": [
           {
            "marker": {
             "line": {
              "color": "#283442"
             }
            },
            "type": "scattergl"
           }
          ],
          "scatter3d": [
           {
            "type": "scatter3d",
            "line": {
             "colorbar": {
              "outlinewidth": 0,
              "ticks": ""
             }
            },
            "marker": {
             "colorbar": {
              "outlinewidth": 0,
              "ticks": ""
             }
            }
           }
          ],
          "scattermapbox": [
           {
            "type": "scattermapbox",
            "marker": {
             "colorbar": {
              "outlinewidth": 0,
              "ticks": ""
             }
            }
           }
          ],
          "scatterternary": [
           {
            "type": "scatterternary",
            "marker": {
             "colorbar": {
              "outlinewidth": 0,
              "ticks": ""
             }
            }
           }
          ],
          "scattercarpet": [
           {
            "type": "scattercarpet",
            "marker": {
             "colorbar": {
              "outlinewidth": 0,
              "ticks": ""
             }
            }
           }
          ],
          "carpet": [
           {
            "aaxis": {
             "endlinecolor": "#A2B1C6",
             "gridcolor": "#506784",
             "linecolor": "#506784",
             "minorgridcolor": "#506784",
             "startlinecolor": "#A2B1C6"
            },
            "baxis": {
             "endlinecolor": "#A2B1C6",
             "gridcolor": "#506784",
             "linecolor": "#506784",
             "minorgridcolor": "#506784",
             "startlinecolor": "#A2B1C6"
            },
            "type": "carpet"
           }
          ],
          "table": [
           {
            "cells": {
             "fill": {
              "color": "#506784"
             },
             "line": {
              "color": "rgb(17,17,17)"
             }
            },
            "header": {
             "fill": {
              "color": "#2a3f5f"
             },
             "line": {
              "color": "rgb(17,17,17)"
             }
            },
            "type": "table"
           }
          ],
          "barpolar": [
           {
            "marker": {
             "line": {
              "color": "rgb(17,17,17)",
              "width": 0.5
             },
             "pattern": {
              "fillmode": "overlay",
              "size": 10,
              "solidity": 0.2
             }
            },
            "type": "barpolar"
           }
          ],
          "pie": [
           {
            "automargin": true,
            "type": "pie"
           }
          ]
         },
         "layout": {
          "autotypenumbers": "strict",
          "colorway": [
           "#636efa",
           "#EF553B",
           "#00cc96",
           "#ab63fa",
           "#FFA15A",
           "#19d3f3",
           "#FF6692",
           "#B6E880",
           "#FF97FF",
           "#FECB52"
          ],
          "font": {
           "color": "#f2f5fa"
          },
          "hovermode": "closest",
          "hoverlabel": {
           "align": "left"
          },
          "paper_bgcolor": "rgb(17,17,17)",
          "plot_bgcolor": "rgb(17,17,17)",
          "polar": {
           "bgcolor": "rgb(17,17,17)",
           "angularaxis": {
            "gridcolor": "#506784",
            "linecolor": "#506784",
            "ticks": ""
           },
           "radialaxis": {
            "gridcolor": "#506784",
            "linecolor": "#506784",
            "ticks": ""
           }
          },
          "ternary": {
           "bgcolor": "rgb(17,17,17)",
           "aaxis": {
            "gridcolor": "#506784",
            "linecolor": "#506784",
            "ticks": ""
           },
           "baxis": {
            "gridcolor": "#506784",
            "linecolor": "#506784",
            "ticks": ""
           },
           "caxis": {
            "gridcolor": "#506784",
            "linecolor": "#506784",
            "ticks": ""
           }
          },
          "coloraxis": {
           "colorbar": {
            "outlinewidth": 0,
            "ticks": ""
           }
          },
          "colorscale": {
           "sequential": [
            [
             0.0,
             "#0d0887"
            ],
            [
             0.1111111111111111,
             "#46039f"
            ],
            [
             0.2222222222222222,
             "#7201a8"
            ],
            [
             0.3333333333333333,
             "#9c179e"
            ],
            [
             0.4444444444444444,
             "#bd3786"
            ],
            [
             0.5555555555555556,
             "#d8576b"
            ],
            [
             0.6666666666666666,
             "#ed7953"
            ],
            [
             0.7777777777777778,
             "#fb9f3a"
            ],
            [
             0.8888888888888888,
             "#fdca26"
            ],
            [
             1.0,
             "#f0f921"
            ]
           ],
           "sequentialminus": [
            [
             0.0,
             "#0d0887"
            ],
            [
             0.1111111111111111,
             "#46039f"
            ],
            [
             0.2222222222222222,
             "#7201a8"
            ],
            [
             0.3333333333333333,
             "#9c179e"
            ],
            [
             0.4444444444444444,
             "#bd3786"
            ],
            [
             0.5555555555555556,
             "#d8576b"
            ],
            [
             0.6666666666666666,
             "#ed7953"
            ],
            [
             0.7777777777777778,
             "#fb9f3a"
            ],
            [
             0.8888888888888888,
             "#fdca26"
            ],
            [
             1.0,
             "#f0f921"
            ]
           ],
           "diverging": [
            [
             0,
             "#8e0152"
            ],
            [
             0.1,
             "#c51b7d"
            ],
            [
             0.2,
             "#de77ae"
            ],
            [
             0.3,
             "#f1b6da"
            ],
            [
             0.4,
             "#fde0ef"
            ],
            [
             0.5,
             "#f7f7f7"
            ],
            [
             0.6,
             "#e6f5d0"
            ],
            [
             0.7,
             "#b8e186"
            ],
            [
             0.8,
             "#7fbc41"
            ],
            [
             0.9,
             "#4d9221"
            ],
            [
             1,
             "#276419"
            ]
           ]
          },
          "xaxis": {
           "gridcolor": "#283442",
           "linecolor": "#506784",
           "ticks": "",
           "title": {
            "standoff": 15
           },
           "zerolinecolor": "#283442",
           "automargin": true,
           "zerolinewidth": 2
          },
          "yaxis": {
           "gridcolor": "#283442",
           "linecolor": "#506784",
           "ticks": "",
           "title": {
            "standoff": 15
           },
           "zerolinecolor": "#283442",
           "automargin": true,
           "zerolinewidth": 2
          },
          "scene": {
           "xaxis": {
            "backgroundcolor": "rgb(17,17,17)",
            "gridcolor": "#506784",
            "linecolor": "#506784",
            "showbackground": true,
            "ticks": "",
            "zerolinecolor": "#C8D4E3",
            "gridwidth": 2
           },
           "yaxis": {
            "backgroundcolor": "rgb(17,17,17)",
            "gridcolor": "#506784",
            "linecolor": "#506784",
            "showbackground": true,
            "ticks": "",
            "zerolinecolor": "#C8D4E3",
            "gridwidth": 2
           },
           "zaxis": {
            "backgroundcolor": "rgb(17,17,17)",
            "gridcolor": "#506784",
            "linecolor": "#506784",
            "showbackground": true,
            "ticks": "",
            "zerolinecolor": "#C8D4E3",
            "gridwidth": 2
           }
          },
          "shapedefaults": {
           "line": {
            "color": "#f2f5fa"
           }
          },
          "annotationdefaults": {
           "arrowcolor": "#f2f5fa",
           "arrowhead": 0,
           "arrowwidth": 1
          },
          "geo": {
           "bgcolor": "rgb(17,17,17)",
           "landcolor": "rgb(17,17,17)",
           "subunitcolor": "#506784",
           "showland": true,
           "showlakes": true,
           "lakecolor": "rgb(17,17,17)"
          },
          "title": {
           "x": 0.05
          },
          "updatemenudefaults": {
           "bgcolor": "#506784",
           "borderwidth": 0
          },
          "sliderdefaults": {
           "bgcolor": "#C8D4E3",
           "borderwidth": 1,
           "bordercolor": "rgb(17,17,17)",
           "tickwidth": 0
          },
          "mapbox": {
           "style": "dark"
          }
         }
        },
        "title": {
         "text": "Sankey Diagram of Game Episodes of Taboo from Start to Ending"
        },
        "font": {
         "size": 15
        }
       },
       "config": {
        "plotlyServerURL": "https://plot.ly"
       }
      },
      "text/html": "<div>                            <div id=\"cb2f2beb-3c6d-4aaf-bce9-561ff621b5b9\" class=\"plotly-graph-div\" style=\"height:525px; width:100%;\"></div>            <script type=\"text/javascript\">                require([\"plotly\"], function(Plotly) {                    window.PLOTLYENV=window.PLOTLYENV || {};                                    if (document.getElementById(\"cb2f2beb-3c6d-4aaf-bce9-561ff621b5b9\")) {                    Plotly.newPlot(                        \"cb2f2beb-3c6d-4aaf-bce9-561ff621b5b9\",                        [{\"link\":{\"color\":[\"#a6dced\",\"#a6dced\",\"#a6dced\",\"#89c289\",\"#f2a1a5\",\"#f2a1a5\",\"#f2a1a5\",\"#89c289\",\"#f2a1a5\",\"#f2a1a5\",\"#f2a1a5\",\"#89c289\",\"#f2a1a5\",\"#f2a1a5\",\"#f2a1a5\"],\"source\":[0,0,0,1,1,1,1,2,2,2,2,3,3,3,3],\"target\":[1,2,3,4,5,6,7,4,5,6,7,4,5,6,7],\"value\":[3300,3300,3300,1271,1191,224,608,1035,1244,205,765,1175,1220,151,754]},\"node\":{\"color\":[\"#a6dced\",\"#a6dced\",\"#a6dced\",\"#a6dced\",\"#89c289\",\"#f2a1a5\",\"#f2a1a5\",\"#f2a1a5\"],\"label\":[\"Total Episodes of Taboo Played\",\"Category: High English\",\"Category: Medium English\",\"Category: Low English\",\"Game Ending: Correct Guess\",\"Game Ending: Invalid Format\",\"Game Ending: Max Turns Reached\",\"Game Ending: Invalid Clue\"],\"line\":{\"color\":\"black\",\"width\":0.5},\"pad\":15,\"thickness\":20},\"type\":\"sankey\"}],                        {\"template\":{\"data\":{\"histogram2dcontour\":[{\"type\":\"histogram2dcontour\",\"colorbar\":{\"outlinewidth\":0,\"ticks\":\"\"},\"colorscale\":[[0.0,\"#0d0887\"],[0.1111111111111111,\"#46039f\"],[0.2222222222222222,\"#7201a8\"],[0.3333333333333333,\"#9c179e\"],[0.4444444444444444,\"#bd3786\"],[0.5555555555555556,\"#d8576b\"],[0.6666666666666666,\"#ed7953\"],[0.7777777777777778,\"#fb9f3a\"],[0.8888888888888888,\"#fdca26\"],[1.0,\"#f0f921\"]]}],\"choropleth\":[{\"type\":\"choropleth\",\"colorbar\":{\"outlinewidth\":0,\"ticks\":\"\"}}],\"histogram2d\":[{\"type\":\"histogram2d\",\"colorbar\":{\"outlinewidth\":0,\"ticks\":\"\"},\"colorscale\":[[0.0,\"#0d0887\"],[0.1111111111111111,\"#46039f\"],[0.2222222222222222,\"#7201a8\"],[0.3333333333333333,\"#9c179e\"],[0.4444444444444444,\"#bd3786\"],[0.5555555555555556,\"#d8576b\"],[0.6666666666666666,\"#ed7953\"],[0.7777777777777778,\"#fb9f3a\"],[0.8888888888888888,\"#fdca26\"],[1.0,\"#f0f921\"]]}],\"heatmap\":[{\"type\":\"heatmap\",\"colorbar\":{\"outlinewidth\":0,\"ticks\":\"\"},\"colorscale\":[[0.0,\"#0d0887\"],[0.1111111111111111,\"#46039f\"],[0.2222222222222222,\"#7201a8\"],[0.3333333333333333,\"#9c179e\"],[0.4444444444444444,\"#bd3786\"],[0.5555555555555556,\"#d8576b\"],[0.6666666666666666,\"#ed7953\"],[0.7777777777777778,\"#fb9f3a\"],[0.8888888888888888,\"#fdca26\"],[1.0,\"#f0f921\"]]}],\"heatmapgl\":[{\"type\":\"heatmapgl\",\"colorbar\":{\"outlinewidth\":0,\"ticks\":\"\"},\"colorscale\":[[0.0,\"#0d0887\"],[0.1111111111111111,\"#46039f\"],[0.2222222222222222,\"#7201a8\"],[0.3333333333333333,\"#9c179e\"],[0.4444444444444444,\"#bd3786\"],[0.5555555555555556,\"#d8576b\"],[0.6666666666666666,\"#ed7953\"],[0.7777777777777778,\"#fb9f3a\"],[0.8888888888888888,\"#fdca26\"],[1.0,\"#f0f921\"]]}],\"contourcarpet\":[{\"type\":\"contourcarpet\",\"colorbar\":{\"outlinewidth\":0,\"ticks\":\"\"}}],\"contour\":[{\"type\":\"contour\",\"colorbar\":{\"outlinewidth\":0,\"ticks\":\"\"},\"colorscale\":[[0.0,\"#0d0887\"],[0.1111111111111111,\"#46039f\"],[0.2222222222222222,\"#7201a8\"],[0.3333333333333333,\"#9c179e\"],[0.4444444444444444,\"#bd3786\"],[0.5555555555555556,\"#d8576b\"],[0.6666666666666666,\"#ed7953\"],[0.7777777777777778,\"#fb9f3a\"],[0.8888888888888888,\"#fdca26\"],[1.0,\"#f0f921\"]]}],\"surface\":[{\"type\":\"surface\",\"colorbar\":{\"outlinewidth\":0,\"ticks\":\"\"},\"colorscale\":[[0.0,\"#0d0887\"],[0.1111111111111111,\"#46039f\"],[0.2222222222222222,\"#7201a8\"],[0.3333333333333333,\"#9c179e\"],[0.4444444444444444,\"#bd3786\"],[0.5555555555555556,\"#d8576b\"],[0.6666666666666666,\"#ed7953\"],[0.7777777777777778,\"#fb9f3a\"],[0.8888888888888888,\"#fdca26\"],[1.0,\"#f0f921\"]]}],\"mesh3d\":[{\"type\":\"mesh3d\",\"colorbar\":{\"outlinewidth\":0,\"ticks\":\"\"}}],\"scatter\":[{\"marker\":{\"line\":{\"color\":\"#283442\"}},\"type\":\"scatter\"}],\"parcoords\":[{\"type\":\"parcoords\",\"line\":{\"colorbar\":{\"outlinewidth\":0,\"ticks\":\"\"}}}],\"scatterpolargl\":[{\"type\":\"scatterpolargl\",\"marker\":{\"colorbar\":{\"outlinewidth\":0,\"ticks\":\"\"}}}],\"bar\":[{\"error_x\":{\"color\":\"#f2f5fa\"},\"error_y\":{\"color\":\"#f2f5fa\"},\"marker\":{\"line\":{\"color\":\"rgb(17,17,17)\",\"width\":0.5},\"pattern\":{\"fillmode\":\"overlay\",\"size\":10,\"solidity\":0.2}},\"type\":\"bar\"}],\"scattergeo\":[{\"type\":\"scattergeo\",\"marker\":{\"colorbar\":{\"outlinewidth\":0,\"ticks\":\"\"}}}],\"scatterpolar\":[{\"type\":\"scatterpolar\",\"marker\":{\"colorbar\":{\"outlinewidth\":0,\"ticks\":\"\"}}}],\"histogram\":[{\"marker\":{\"pattern\":{\"fillmode\":\"overlay\",\"size\":10,\"solidity\":0.2}},\"type\":\"histogram\"}],\"scattergl\":[{\"marker\":{\"line\":{\"color\":\"#283442\"}},\"type\":\"scattergl\"}],\"scatter3d\":[{\"type\":\"scatter3d\",\"line\":{\"colorbar\":{\"outlinewidth\":0,\"ticks\":\"\"}},\"marker\":{\"colorbar\":{\"outlinewidth\":0,\"ticks\":\"\"}}}],\"scattermapbox\":[{\"type\":\"scattermapbox\",\"marker\":{\"colorbar\":{\"outlinewidth\":0,\"ticks\":\"\"}}}],\"scatterternary\":[{\"type\":\"scatterternary\",\"marker\":{\"colorbar\":{\"outlinewidth\":0,\"ticks\":\"\"}}}],\"scattercarpet\":[{\"type\":\"scattercarpet\",\"marker\":{\"colorbar\":{\"outlinewidth\":0,\"ticks\":\"\"}}}],\"carpet\":[{\"aaxis\":{\"endlinecolor\":\"#A2B1C6\",\"gridcolor\":\"#506784\",\"linecolor\":\"#506784\",\"minorgridcolor\":\"#506784\",\"startlinecolor\":\"#A2B1C6\"},\"baxis\":{\"endlinecolor\":\"#A2B1C6\",\"gridcolor\":\"#506784\",\"linecolor\":\"#506784\",\"minorgridcolor\":\"#506784\",\"startlinecolor\":\"#A2B1C6\"},\"type\":\"carpet\"}],\"table\":[{\"cells\":{\"fill\":{\"color\":\"#506784\"},\"line\":{\"color\":\"rgb(17,17,17)\"}},\"header\":{\"fill\":{\"color\":\"#2a3f5f\"},\"line\":{\"color\":\"rgb(17,17,17)\"}},\"type\":\"table\"}],\"barpolar\":[{\"marker\":{\"line\":{\"color\":\"rgb(17,17,17)\",\"width\":0.5},\"pattern\":{\"fillmode\":\"overlay\",\"size\":10,\"solidity\":0.2}},\"type\":\"barpolar\"}],\"pie\":[{\"automargin\":true,\"type\":\"pie\"}]},\"layout\":{\"autotypenumbers\":\"strict\",\"colorway\":[\"#636efa\",\"#EF553B\",\"#00cc96\",\"#ab63fa\",\"#FFA15A\",\"#19d3f3\",\"#FF6692\",\"#B6E880\",\"#FF97FF\",\"#FECB52\"],\"font\":{\"color\":\"#f2f5fa\"},\"hovermode\":\"closest\",\"hoverlabel\":{\"align\":\"left\"},\"paper_bgcolor\":\"rgb(17,17,17)\",\"plot_bgcolor\":\"rgb(17,17,17)\",\"polar\":{\"bgcolor\":\"rgb(17,17,17)\",\"angularaxis\":{\"gridcolor\":\"#506784\",\"linecolor\":\"#506784\",\"ticks\":\"\"},\"radialaxis\":{\"gridcolor\":\"#506784\",\"linecolor\":\"#506784\",\"ticks\":\"\"}},\"ternary\":{\"bgcolor\":\"rgb(17,17,17)\",\"aaxis\":{\"gridcolor\":\"#506784\",\"linecolor\":\"#506784\",\"ticks\":\"\"},\"baxis\":{\"gridcolor\":\"#506784\",\"linecolor\":\"#506784\",\"ticks\":\"\"},\"caxis\":{\"gridcolor\":\"#506784\",\"linecolor\":\"#506784\",\"ticks\":\"\"}},\"coloraxis\":{\"colorbar\":{\"outlinewidth\":0,\"ticks\":\"\"}},\"colorscale\":{\"sequential\":[[0.0,\"#0d0887\"],[0.1111111111111111,\"#46039f\"],[0.2222222222222222,\"#7201a8\"],[0.3333333333333333,\"#9c179e\"],[0.4444444444444444,\"#bd3786\"],[0.5555555555555556,\"#d8576b\"],[0.6666666666666666,\"#ed7953\"],[0.7777777777777778,\"#fb9f3a\"],[0.8888888888888888,\"#fdca26\"],[1.0,\"#f0f921\"]],\"sequentialminus\":[[0.0,\"#0d0887\"],[0.1111111111111111,\"#46039f\"],[0.2222222222222222,\"#7201a8\"],[0.3333333333333333,\"#9c179e\"],[0.4444444444444444,\"#bd3786\"],[0.5555555555555556,\"#d8576b\"],[0.6666666666666666,\"#ed7953\"],[0.7777777777777778,\"#fb9f3a\"],[0.8888888888888888,\"#fdca26\"],[1.0,\"#f0f921\"]],\"diverging\":[[0,\"#8e0152\"],[0.1,\"#c51b7d\"],[0.2,\"#de77ae\"],[0.3,\"#f1b6da\"],[0.4,\"#fde0ef\"],[0.5,\"#f7f7f7\"],[0.6,\"#e6f5d0\"],[0.7,\"#b8e186\"],[0.8,\"#7fbc41\"],[0.9,\"#4d9221\"],[1,\"#276419\"]]},\"xaxis\":{\"gridcolor\":\"#283442\",\"linecolor\":\"#506784\",\"ticks\":\"\",\"title\":{\"standoff\":15},\"zerolinecolor\":\"#283442\",\"automargin\":true,\"zerolinewidth\":2},\"yaxis\":{\"gridcolor\":\"#283442\",\"linecolor\":\"#506784\",\"ticks\":\"\",\"title\":{\"standoff\":15},\"zerolinecolor\":\"#283442\",\"automargin\":true,\"zerolinewidth\":2},\"scene\":{\"xaxis\":{\"backgroundcolor\":\"rgb(17,17,17)\",\"gridcolor\":\"#506784\",\"linecolor\":\"#506784\",\"showbackground\":true,\"ticks\":\"\",\"zerolinecolor\":\"#C8D4E3\",\"gridwidth\":2},\"yaxis\":{\"backgroundcolor\":\"rgb(17,17,17)\",\"gridcolor\":\"#506784\",\"linecolor\":\"#506784\",\"showbackground\":true,\"ticks\":\"\",\"zerolinecolor\":\"#C8D4E3\",\"gridwidth\":2},\"zaxis\":{\"backgroundcolor\":\"rgb(17,17,17)\",\"gridcolor\":\"#506784\",\"linecolor\":\"#506784\",\"showbackground\":true,\"ticks\":\"\",\"zerolinecolor\":\"#C8D4E3\",\"gridwidth\":2}},\"shapedefaults\":{\"line\":{\"color\":\"#f2f5fa\"}},\"annotationdefaults\":{\"arrowcolor\":\"#f2f5fa\",\"arrowhead\":0,\"arrowwidth\":1},\"geo\":{\"bgcolor\":\"rgb(17,17,17)\",\"landcolor\":\"rgb(17,17,17)\",\"subunitcolor\":\"#506784\",\"showland\":true,\"showlakes\":true,\"lakecolor\":\"rgb(17,17,17)\"},\"title\":{\"x\":0.05},\"updatemenudefaults\":{\"bgcolor\":\"#506784\",\"borderwidth\":0},\"sliderdefaults\":{\"bgcolor\":\"#C8D4E3\",\"borderwidth\":1,\"bordercolor\":\"rgb(17,17,17)\",\"tickwidth\":0},\"mapbox\":{\"style\":\"dark\"}}},\"title\":{\"text\":\"Sankey Diagram of Game Episodes of Taboo from Start to Ending\"},\"font\":{\"size\":15}},                        {\"responsive\": true}                    ).then(function(){\n                            \nvar gd = document.getElementById('cb2f2beb-3c6d-4aaf-bce9-561ff621b5b9');\nvar x = new MutationObserver(function (mutations, observer) {{\n        var display = window.getComputedStyle(gd).display;\n        if (!display || display === 'none') {{\n            console.log([gd, 'removed!']);\n            Plotly.purge(gd);\n            observer.disconnect();\n        }}\n}});\n\n// Listen for the removal of the full notebook cells\nvar notebookContainer = gd.closest('#notebook-container');\nif (notebookContainer) {{\n    x.observe(notebookContainer, {childList: true});\n}}\n\n// Listen for the clearing of the current output cell\nvar outputEl = gd.closest('.output');\nif (outputEl) {{\n    x.observe(outputEl, {childList: true});\n}}\n\n                        })                };                });            </script>        </div>"
     },
     "metadata": {},
     "output_type": "display_data"
    }
   ],
   "source": [
    "# define data\n",
    "data = episodes\n",
    "\n",
    "# Define nodes\n",
    "nodes = {\n",
    "    \"label\": [\"Total Episodes of Taboo Played\", \"Category: High English\", \"Category: Medium English\", \"Category: Low English\", \"Game Ending: Correct Guess\", \"Game Ending: Invalid Format\", \"Game Ending: Max Turns Reached\", \"Game Ending: Invalid Clue\"],\n",
    "    \"color\": [\"#a6dced\", \"#a6dced\", \"#a6dced\", \"#a6dced\", \"#89c289\", \"#f2a1a5\", \"#f2a1a5\", \"#f2a1a5\"]\n",
    "}\n",
    "\n",
    "# Define links\n",
    "links = {\n",
    "    \"source\": [0, 0, 0, 1, 1, 1, 1, 2, 2, 2, 2, 3, 3, 3, 3],\n",
    "    \"target\": [1, 2, 3, 4, 5, 6, 7, 4, 5, 6, 7, 4, 5, 6, 7],\n",
    "    \"value\": [\n",
    "        data['0_high_en']['total_episodes'],\n",
    "        data['1_medium_en']['total_episodes'],\n",
    "        data['2_low_en']['total_episodes'],\n",
    "        data['0_high_en']['correct guess'],\n",
    "        data['0_high_en']['invalid format'],\n",
    "        data['0_high_en']['max turns reached'],\n",
    "        data['0_high_en']['invalid clue'],\n",
    "        data['1_medium_en']['correct guess'],\n",
    "        data['1_medium_en']['invalid format'],\n",
    "        data['1_medium_en']['max turns reached'],\n",
    "        data['1_medium_en']['invalid clue'],\n",
    "        data['2_low_en']['correct guess'],\n",
    "        data['2_low_en']['invalid format'],\n",
    "        data['2_low_en']['max turns reached'],\n",
    "        data['2_low_en']['invalid clue']\n",
    "    ],\n",
    "    \"color\": [\n",
    "        \"#a6dced\", \"#a6dced\", \"#a6dced\",\n",
    "        \"#89c289\", \"#f2a1a5\", \"#f2a1a5\", \"#f2a1a5\",\n",
    "        \"#89c289\", \"#f2a1a5\", \"#f2a1a5\", \"#f2a1a5\",\n",
    "        \"#89c289\", \"#f2a1a5\", \"#f2a1a5\", \"#f2a1a5\"\n",
    "    ]\n",
    "}\n",
    "\n",
    "# Create the Sankey diagram\n",
    "fig = go.Figure(data=[go.Sankey(\n",
    "    node=dict(\n",
    "        pad=15,\n",
    "        thickness=20,\n",
    "        line=dict(color=\"black\", width=0.5),\n",
    "        label=nodes[\"label\"],\n",
    "        color=nodes[\"color\"],\n",
    "    ),\n",
    "    link=dict(\n",
    "        source=links[\"source\"],  # indices correspond to labels in the nodes list\n",
    "        target=links[\"target\"],\n",
    "        value=links[\"value\"],\n",
    "        color=links[\"color\"],\n",
    "    )\n",
    ")])\n",
    "\n",
    "fig.update_layout(title_text=\"Sankey Diagram of Game Episodes of Taboo from Start to Ending\", font_size=15)\n",
    "fig.write_html(\"sankey_diagram_episodes_taboo.html\")\n",
    "fig.show()"
   ],
   "metadata": {
    "collapsed": false,
    "ExecuteTime": {
     "end_time": "2024-06-18T17:52:10.982079400Z",
     "start_time": "2024-06-18T17:52:10.940081400Z"
    }
   },
   "id": "e9a822629934c4eb"
  },
  {
   "cell_type": "code",
   "execution_count": null,
   "outputs": [],
   "source": [],
   "metadata": {
    "collapsed": false
   }
  }
 ],
 "metadata": {
  "kernelspec": {
   "display_name": "Python 3",
   "language": "python",
   "name": "python3"
  },
  "language_info": {
   "codemirror_mode": {
    "name": "ipython",
    "version": 2
   },
   "file_extension": ".py",
   "mimetype": "text/x-python",
   "name": "python",
   "nbconvert_exporter": "python",
   "pygments_lexer": "ipython2",
   "version": "2.7.6"
  }
 },
 "nbformat": 4,
 "nbformat_minor": 5
}
