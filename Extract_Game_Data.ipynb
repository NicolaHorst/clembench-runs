{
 "cells": [
  {
   "cell_type": "code",
   "execution_count": 52,
   "id": "initial_id",
   "metadata": {
    "collapsed": true,
    "ExecuteTime": {
     "end_time": "2024-07-23T11:43:48.734462400Z",
     "start_time": "2024-07-23T11:43:48.727946100Z"
    }
   },
   "outputs": [],
   "source": [
    "import pandas as pd\n",
    "import json\n",
    "import os"
   ]
  },
  {
   "cell_type": "markdown",
   "source": [
    "## Extraction Info\n",
    "\n",
    "### raw.csv\n",
    "for each benchmark there is the raw.csv containing all metrics collected.\n",
    "from this file, the following information can be extracted for each episode:\n",
    "- game\n",
    "- model\n",
    "- episode\n",
    "- experiment\n",
    "- Aborted\n",
    "- Lose\n",
    "- Success\n",
    "\n",
    "### requests.json\n",
    "For each benchmark > model > game > experiment > episode there is a requests file containing the requests sent to the models and the received answers\n",
    "following information can be extracted for each episode\n",
    "- inputs\n",
    "- responses\n",
    "\n",
    "### instance.json\n",
    "For each benchmark > model > game > experiment > episode there is a instance.json file containing metadata for the episode\n",
    "e.g. for taboo it is the target word along with the taboo words or for wordle it is the target word along with a clue for the word.\n",
    "the metadata will be extracted completely and stored as an additional column.\n"
   ],
   "metadata": {
    "collapsed": false
   },
   "id": "f5f48ea0a6dee261"
  },
  {
   "cell_type": "code",
   "execution_count": 53,
   "outputs": [],
   "source": [
    "def group_raw_csv(data: pd.DataFrame, columns_to_keep: list[str]) -> pd.DataFrame:\n",
    "    df: pd.DataFrame = data.pivot_table(\n",
    "        index=['game', 'model', 'experiment', 'episode'],\n",
    "        columns=['metric'],\n",
    "        values='value'\n",
    "    ).reset_index()\n",
    "\n",
    "    columns_to_drop: list = [column for column in list(df.keys()) if column not in columns_to_keep]\n",
    "    return df.drop(columns=columns_to_drop, axis=0)"
   ],
   "metadata": {
    "collapsed": false,
    "ExecuteTime": {
     "end_time": "2024-07-23T11:43:56.374972900Z",
     "start_time": "2024-07-23T11:43:56.367976100Z"
    }
   },
   "id": "5213b54a7607a69f"
  },
  {
   "cell_type": "code",
   "execution_count": 101,
   "outputs": [],
   "source": [
    "def prepare_requests_json(path: str, response_key: str) -> dict:\n",
    "    data: pd.DataFrame = pd.read_json(path)\n",
    "    interactions: dict = {\n",
    "        'requests': [],\n",
    "        'responses': []\n",
    "    }\n",
    "    \n",
    "    for index, row in data.iterrows():\n",
    "        try: \n",
    "            interactions['requests'].append(row.manipulated_prompt_obj)\n",
    "            interactions['responses'].append(row.raw_response_obj['response'])\n",
    "        except KeyError as e:\n",
    "            interactions['requests'].append(row.manipulated_prompt_obj)\n",
    "            interactions['responses'].append(row.raw_response_obj['completion'])\n",
    "            \n",
    "    \n",
    "    try:\n",
    "        assert len(interactions['requests']) == len(interactions['responses'])\n",
    "    except AssertionError as e:\n",
    "        print(e)\n",
    "        print('length missmatch between requests and responses')\n",
    "        exit(-1)\n",
    "        \n",
    "    return interactions"
   ],
   "metadata": {
    "collapsed": false,
    "ExecuteTime": {
     "end_time": "2024-07-23T12:11:39.170366600Z",
     "start_time": "2024-07-23T12:11:39.148370400Z"
    }
   },
   "id": "a80dd8f2d25fbc1e"
  },
  {
   "cell_type": "code",
   "execution_count": 95,
   "outputs": [],
   "source": [
    "def prepare_instance_data(path: str) -> dict:\n",
    "    with open(path, 'r') as f:\n",
    "        data: dict = json.load(f)\n",
    "        return data\n",
    "    "
   ],
   "metadata": {
    "collapsed": false,
    "ExecuteTime": {
     "end_time": "2024-07-23T12:07:13.210287600Z",
     "start_time": "2024-07-23T12:07:13.179289400Z"
    }
   },
   "id": "7d749f89d5d8ce20"
  },
  {
   "cell_type": "code",
   "execution_count": 96,
   "outputs": [],
   "source": [
    "benchmark_versions_old: list = ['v0.9', 'v1.0']\n",
    "interaction_response_token_old: list = ['completion', 'response']\n",
    "lookup_response_token_old: dict = {key: val for key, val in zip(benchmark_versions_old, interaction_response_token_old)}\n",
    "benchmark_versions_new: list = ['v1.5', 'v1.5_quantized','v1.6','v1.6_backends','v1.6_quantized',]\n",
    "columns_to_keep_raw_csv: list = ['game', 'model', 'experiment', 'episode', 'Aborted', 'Lose', 'Success']\n",
    "games: list = ['privateshared', 'referencegame', 'taboo', 'wordle', 'wordle_withclue', 'wordle_withcritic']  # imagegame\n"
   ],
   "metadata": {
    "collapsed": false,
    "ExecuteTime": {
     "end_time": "2024-07-23T12:07:13.638452600Z",
     "start_time": "2024-07-23T12:07:13.629453200Z"
    }
   },
   "id": "caa6a02dd13f1c12"
  },
  {
   "cell_type": "code",
   "execution_count": 102,
   "outputs": [
    {
     "name": "stdout",
     "output_type": "stream",
     "text": [
      "./v0.9/claude-v1.3-t0.0--claude-v1.3-t0.0/privateshared/0_travel-booking/episode_0/requests.json\n",
      "\n",
      "length missmatch between requests and responses\n",
      "./v0.9/claude-v1.3-t0.0--claude-v1.3-t0.0/privateshared/0_travel-booking/episode_1/requests.json\n",
      "\n",
      "length missmatch between requests and responses\n",
      "./v0.9/claude-v1.3-t0.0--claude-v1.3-t0.0/privateshared/0_travel-booking/episode_2/requests.json\n",
      "\n",
      "length missmatch between requests and responses\n",
      "./v0.9/claude-v1.3-t0.0--claude-v1.3-t0.0/privateshared/0_travel-booking/episode_3/requests.json\n",
      "\n",
      "length missmatch between requests and responses\n",
      "./v0.9/claude-v1.3-t0.0--claude-v1.3-t0.0/privateshared/0_travel-booking/episode_4/requests.json\n",
      "\n",
      "length missmatch between requests and responses\n",
      "./v0.9/claude-v1.3-t0.0--claude-v1.3-t0.0/privateshared/0_travel-booking/episode_5/requests.json\n",
      "\n",
      "length missmatch between requests and responses\n",
      "./v0.9/claude-v1.3-t0.0--claude-v1.3-t0.0/privateshared/0_travel-booking/episode_6/requests.json\n",
      "\n",
      "length missmatch between requests and responses\n",
      "./v0.9/claude-v1.3-t0.0--claude-v1.3-t0.0/privateshared/0_travel-booking/episode_7/requests.json\n",
      "\n",
      "length missmatch between requests and responses\n",
      "./v0.9/claude-v1.3-t0.0--claude-v1.3-t0.0/privateshared/0_travel-booking/episode_8/requests.json\n",
      "\n",
      "length missmatch between requests and responses\n",
      "./v0.9/claude-v1.3-t0.0--claude-v1.3-t0.0/privateshared/0_travel-booking/episode_9/requests.json\n",
      "\n",
      "length missmatch between requests and responses\n",
      "./v0.9/claude-v1.3-t0.0--claude-v1.3-t0.0/privateshared/1_job-interview/episode_0/requests.json\n",
      "\n",
      "length missmatch between requests and responses\n",
      "./v0.9/claude-v1.3-t0.0--claude-v1.3-t0.0/privateshared/1_job-interview/episode_1/requests.json\n",
      "\n",
      "length missmatch between requests and responses\n",
      "./v0.9/claude-v1.3-t0.0--claude-v1.3-t0.0/privateshared/1_job-interview/episode_2/requests.json\n",
      "\n",
      "length missmatch between requests and responses\n",
      "./v0.9/claude-v1.3-t0.0--claude-v1.3-t0.0/privateshared/1_job-interview/episode_3/requests.json\n",
      "\n",
      "length missmatch between requests and responses\n",
      "./v0.9/claude-v1.3-t0.0--claude-v1.3-t0.0/privateshared/1_job-interview/episode_4/requests.json\n",
      "\n",
      "length missmatch between requests and responses\n",
      "./v0.9/claude-v1.3-t0.0--claude-v1.3-t0.0/privateshared/1_job-interview/episode_5/requests.json\n",
      "\n",
      "length missmatch between requests and responses\n",
      "./v0.9/claude-v1.3-t0.0--claude-v1.3-t0.0/privateshared/1_job-interview/episode_6/requests.json\n",
      "\n",
      "length missmatch between requests and responses\n",
      "./v0.9/claude-v1.3-t0.0--claude-v1.3-t0.0/privateshared/1_job-interview/episode_7/requests.json\n",
      "\n",
      "length missmatch between requests and responses\n",
      "./v0.9/claude-v1.3-t0.0--claude-v1.3-t0.0/privateshared/1_job-interview/episode_8/requests.json\n",
      "\n",
      "length missmatch between requests and responses\n",
      "./v0.9/claude-v1.3-t0.0--claude-v1.3-t0.0/privateshared/1_job-interview/episode_9/requests.json\n",
      "\n",
      "length missmatch between requests and responses\n",
      "./v0.9/claude-v1.3-t0.0--claude-v1.3-t0.0/privateshared/2_restaurant/episode_0/requests.json\n",
      "\n",
      "length missmatch between requests and responses\n",
      "./v0.9/claude-v1.3-t0.0--claude-v1.3-t0.0/privateshared/2_restaurant/episode_1/requests.json\n",
      "\n",
      "length missmatch between requests and responses\n",
      "./v0.9/claude-v1.3-t0.0--claude-v1.3-t0.0/privateshared/2_restaurant/episode_2/requests.json\n",
      "\n",
      "length missmatch between requests and responses\n",
      "./v0.9/claude-v1.3-t0.0--claude-v1.3-t0.0/privateshared/2_restaurant/episode_3/requests.json\n",
      "\n",
      "length missmatch between requests and responses\n",
      "./v0.9/claude-v1.3-t0.0--claude-v1.3-t0.0/privateshared/2_restaurant/episode_4/requests.json\n",
      "\n",
      "length missmatch between requests and responses\n",
      "./v0.9/claude-v1.3-t0.0--claude-v1.3-t0.0/privateshared/2_restaurant/episode_5/requests.json\n",
      "\n",
      "length missmatch between requests and responses\n",
      "./v0.9/claude-v1.3-t0.0--claude-v1.3-t0.0/privateshared/2_restaurant/episode_6/requests.json\n",
      "\n",
      "length missmatch between requests and responses\n",
      "./v0.9/claude-v1.3-t0.0--claude-v1.3-t0.0/privateshared/2_restaurant/episode_7/requests.json\n",
      "\n",
      "length missmatch between requests and responses\n",
      "./v0.9/claude-v1.3-t0.0--claude-v1.3-t0.0/privateshared/2_restaurant/episode_8/requests.json\n",
      "\n",
      "length missmatch between requests and responses\n",
      "./v0.9/claude-v1.3-t0.0--claude-v1.3-t0.0/privateshared/2_restaurant/episode_9/requests.json\n",
      "\n",
      "length missmatch between requests and responses\n",
      "./v0.9/claude-v1.3-t0.0--claude-v1.3-t0.0/privateshared/3_things-places/episode_0/requests.json\n",
      "\n",
      "length missmatch between requests and responses\n",
      "./v0.9/claude-v1.3-t0.0--claude-v1.3-t0.0/privateshared/3_things-places/episode_1/requests.json\n",
      "\n",
      "length missmatch between requests and responses\n",
      "./v0.9/claude-v1.3-t0.0--claude-v1.3-t0.0/privateshared/3_things-places/episode_2/requests.json\n",
      "\n",
      "length missmatch between requests and responses\n",
      "./v0.9/claude-v1.3-t0.0--claude-v1.3-t0.0/privateshared/3_things-places/episode_3/requests.json\n",
      "\n",
      "length missmatch between requests and responses\n",
      "./v0.9/claude-v1.3-t0.0--claude-v1.3-t0.0/privateshared/3_things-places/episode_4/requests.json\n",
      "\n",
      "length missmatch between requests and responses\n",
      "./v0.9/claude-v1.3-t0.0--claude-v1.3-t0.0/privateshared/3_things-places/episode_5/requests.json\n",
      "\n",
      "length missmatch between requests and responses\n",
      "./v0.9/claude-v1.3-t0.0--claude-v1.3-t0.0/privateshared/3_things-places/episode_6/requests.json\n",
      "\n",
      "length missmatch between requests and responses\n",
      "./v0.9/claude-v1.3-t0.0--claude-v1.3-t0.0/privateshared/3_things-places/episode_7/requests.json\n",
      "\n",
      "length missmatch between requests and responses\n",
      "./v0.9/claude-v1.3-t0.0--claude-v1.3-t0.0/privateshared/3_things-places/episode_8/requests.json\n",
      "\n",
      "length missmatch between requests and responses\n",
      "./v0.9/claude-v1.3-t0.0--claude-v1.3-t0.0/privateshared/3_things-places/episode_9/requests.json\n",
      "\n",
      "length missmatch between requests and responses\n",
      "./v0.9/claude-v1.3-t0.0--claude-v1.3-t0.0/privateshared/4_letter-number/episode_0/requests.json\n",
      "\n",
      "length missmatch between requests and responses\n",
      "./v0.9/claude-v1.3-t0.0--claude-v1.3-t0.0/privateshared/4_letter-number/episode_1/requests.json\n",
      "\n",
      "length missmatch between requests and responses\n",
      "./v0.9/claude-v1.3-t0.0--claude-v1.3-t0.0/privateshared/4_letter-number/episode_2/requests.json\n",
      "\n",
      "length missmatch between requests and responses\n",
      "./v0.9/claude-v1.3-t0.0--claude-v1.3-t0.0/privateshared/4_letter-number/episode_3/requests.json\n",
      "\n",
      "length missmatch between requests and responses\n",
      "./v0.9/claude-v1.3-t0.0--claude-v1.3-t0.0/privateshared/4_letter-number/episode_4/requests.json\n",
      "\n",
      "length missmatch between requests and responses\n",
      "./v0.9/claude-v1.3-t0.0--claude-v1.3-t0.0/privateshared/4_letter-number/episode_5/requests.json\n",
      "\n",
      "length missmatch between requests and responses\n",
      "./v0.9/claude-v1.3-t0.0--claude-v1.3-t0.0/privateshared/4_letter-number/episode_6/requests.json\n",
      "\n",
      "length missmatch between requests and responses\n",
      "./v0.9/claude-v1.3-t0.0--claude-v1.3-t0.0/privateshared/4_letter-number/episode_7/requests.json\n",
      "\n",
      "length missmatch between requests and responses\n",
      "./v0.9/claude-v1.3-t0.0--claude-v1.3-t0.0/privateshared/4_letter-number/episode_8/requests.json\n",
      "\n",
      "length missmatch between requests and responses\n",
      "./v0.9/claude-v1.3-t0.0--claude-v1.3-t0.0/privateshared/4_letter-number/episode_9/requests.json\n",
      "\n",
      "length missmatch between requests and responses\n",
      "./v0.9/falcon-40b-t0.0--falcon-40b-t0.0/privateshared/0_travel-booking/episode_0/requests.json\n",
      "./v0.9/falcon-40b-t0.0--falcon-40b-t0.0/privateshared/0_travel-booking/episode_1/requests.json\n",
      "./v0.9/falcon-40b-t0.0--falcon-40b-t0.0/privateshared/0_travel-booking/episode_2/requests.json\n",
      "./v0.9/falcon-40b-t0.0--falcon-40b-t0.0/privateshared/0_travel-booking/episode_3/requests.json\n",
      "./v0.9/falcon-40b-t0.0--falcon-40b-t0.0/privateshared/0_travel-booking/episode_4/requests.json\n",
      "./v0.9/falcon-40b-t0.0--falcon-40b-t0.0/privateshared/0_travel-booking/episode_5/requests.json\n",
      "./v0.9/falcon-40b-t0.0--falcon-40b-t0.0/privateshared/0_travel-booking/episode_6/requests.json\n",
      "./v0.9/falcon-40b-t0.0--falcon-40b-t0.0/privateshared/0_travel-booking/episode_7/requests.json\n",
      "./v0.9/falcon-40b-t0.0--falcon-40b-t0.0/privateshared/0_travel-booking/episode_8/requests.json\n",
      "./v0.9/falcon-40b-t0.0--falcon-40b-t0.0/privateshared/0_travel-booking/episode_9/requests.json\n",
      "./v0.9/falcon-40b-t0.0--falcon-40b-t0.0/privateshared/1_job-interview/episode_0/requests.json\n",
      "./v0.9/falcon-40b-t0.0--falcon-40b-t0.0/privateshared/1_job-interview/episode_1/requests.json\n",
      "./v0.9/falcon-40b-t0.0--falcon-40b-t0.0/privateshared/1_job-interview/episode_2/requests.json\n",
      "./v0.9/falcon-40b-t0.0--falcon-40b-t0.0/privateshared/1_job-interview/episode_3/requests.json\n",
      "./v0.9/falcon-40b-t0.0--falcon-40b-t0.0/privateshared/1_job-interview/episode_4/requests.json\n",
      "./v0.9/falcon-40b-t0.0--falcon-40b-t0.0/privateshared/1_job-interview/episode_5/requests.json\n",
      "./v0.9/falcon-40b-t0.0--falcon-40b-t0.0/privateshared/1_job-interview/episode_6/requests.json\n",
      "./v0.9/falcon-40b-t0.0--falcon-40b-t0.0/privateshared/1_job-interview/episode_7/requests.json\n",
      "./v0.9/falcon-40b-t0.0--falcon-40b-t0.0/privateshared/1_job-interview/episode_8/requests.json\n",
      "./v0.9/falcon-40b-t0.0--falcon-40b-t0.0/privateshared/1_job-interview/episode_9/requests.json\n",
      "./v0.9/falcon-40b-t0.0--falcon-40b-t0.0/privateshared/2_restaurant/episode_0/requests.json\n",
      "./v0.9/falcon-40b-t0.0--falcon-40b-t0.0/privateshared/2_restaurant/episode_1/requests.json\n",
      "./v0.9/falcon-40b-t0.0--falcon-40b-t0.0/privateshared/2_restaurant/episode_2/requests.json\n",
      "./v0.9/falcon-40b-t0.0--falcon-40b-t0.0/privateshared/2_restaurant/episode_3/requests.json\n",
      "./v0.9/falcon-40b-t0.0--falcon-40b-t0.0/privateshared/2_restaurant/episode_4/requests.json\n",
      "./v0.9/falcon-40b-t0.0--falcon-40b-t0.0/privateshared/2_restaurant/episode_5/requests.json\n",
      "./v0.9/falcon-40b-t0.0--falcon-40b-t0.0/privateshared/2_restaurant/episode_6/requests.json\n",
      "./v0.9/falcon-40b-t0.0--falcon-40b-t0.0/privateshared/2_restaurant/episode_7/requests.json\n",
      "./v0.9/falcon-40b-t0.0--falcon-40b-t0.0/privateshared/2_restaurant/episode_8/requests.json\n",
      "./v0.9/falcon-40b-t0.0--falcon-40b-t0.0/privateshared/2_restaurant/episode_9/requests.json\n",
      "./v0.9/falcon-40b-t0.0--falcon-40b-t0.0/privateshared/3_things-places/episode_0/requests.json\n",
      "./v0.9/falcon-40b-t0.0--falcon-40b-t0.0/privateshared/3_things-places/episode_1/requests.json\n",
      "./v0.9/falcon-40b-t0.0--falcon-40b-t0.0/privateshared/3_things-places/episode_2/requests.json\n",
      "./v0.9/falcon-40b-t0.0--falcon-40b-t0.0/privateshared/3_things-places/episode_3/requests.json\n",
      "./v0.9/falcon-40b-t0.0--falcon-40b-t0.0/privateshared/3_things-places/episode_4/requests.json\n",
      "./v0.9/falcon-40b-t0.0--falcon-40b-t0.0/privateshared/3_things-places/episode_5/requests.json\n",
      "./v0.9/falcon-40b-t0.0--falcon-40b-t0.0/privateshared/3_things-places/episode_6/requests.json\n",
      "./v0.9/falcon-40b-t0.0--falcon-40b-t0.0/privateshared/3_things-places/episode_7/requests.json\n",
      "./v0.9/falcon-40b-t0.0--falcon-40b-t0.0/privateshared/3_things-places/episode_8/requests.json\n",
      "./v0.9/falcon-40b-t0.0--falcon-40b-t0.0/privateshared/3_things-places/episode_9/requests.json\n",
      "./v0.9/falcon-40b-t0.0--falcon-40b-t0.0/privateshared/4_letter-number/episode_0/requests.json\n",
      "./v0.9/falcon-40b-t0.0--falcon-40b-t0.0/privateshared/4_letter-number/episode_1/requests.json\n",
      "./v0.9/falcon-40b-t0.0--falcon-40b-t0.0/privateshared/4_letter-number/episode_2/requests.json\n",
      "./v0.9/falcon-40b-t0.0--falcon-40b-t0.0/privateshared/4_letter-number/episode_3/requests.json\n",
      "./v0.9/falcon-40b-t0.0--falcon-40b-t0.0/privateshared/4_letter-number/episode_4/requests.json\n",
      "./v0.9/falcon-40b-t0.0--falcon-40b-t0.0/privateshared/4_letter-number/episode_5/requests.json\n",
      "./v0.9/falcon-40b-t0.0--falcon-40b-t0.0/privateshared/4_letter-number/episode_6/requests.json\n",
      "./v0.9/falcon-40b-t0.0--falcon-40b-t0.0/privateshared/4_letter-number/episode_7/requests.json\n",
      "./v0.9/falcon-40b-t0.0--falcon-40b-t0.0/privateshared/4_letter-number/episode_8/requests.json\n",
      "./v0.9/falcon-40b-t0.0--falcon-40b-t0.0/privateshared/4_letter-number/episode_9/requests.json\n",
      "./v0.9/gpt-3.5-turbo-t0.0--gpt-3.5-turbo-t0.0/privateshared/0_travel-booking/episode_0/requests.json\n"
     ]
    },
    {
     "ename": "KeyError",
     "evalue": "'completion'",
     "output_type": "error",
     "traceback": [
      "\u001B[1;31m---------------------------------------------------------------------------\u001B[0m",
      "\u001B[1;31mKeyError\u001B[0m                                  Traceback (most recent call last)",
      "Cell \u001B[1;32mIn[101], line 11\u001B[0m, in \u001B[0;36mprepare_requests_json\u001B[1;34m(path, response_key)\u001B[0m\n\u001B[0;32m     10\u001B[0m     interactions[\u001B[38;5;124m'\u001B[39m\u001B[38;5;124mrequests\u001B[39m\u001B[38;5;124m'\u001B[39m]\u001B[38;5;241m.\u001B[39mappend(row\u001B[38;5;241m.\u001B[39mmanipulated_prompt_obj)\n\u001B[1;32m---> 11\u001B[0m     interactions[\u001B[38;5;124m'\u001B[39m\u001B[38;5;124mresponses\u001B[39m\u001B[38;5;124m'\u001B[39m]\u001B[38;5;241m.\u001B[39mappend(\u001B[43mrow\u001B[49m\u001B[38;5;241;43m.\u001B[39;49m\u001B[43mraw_response_obj\u001B[49m\u001B[43m[\u001B[49m\u001B[38;5;124;43m'\u001B[39;49m\u001B[38;5;124;43mresponse\u001B[39;49m\u001B[38;5;124;43m'\u001B[39;49m\u001B[43m]\u001B[49m)\n\u001B[0;32m     12\u001B[0m \u001B[38;5;28;01mexcept\u001B[39;00m \u001B[38;5;167;01mKeyError\u001B[39;00m \u001B[38;5;28;01mas\u001B[39;00m e:\n",
      "\u001B[1;31mKeyError\u001B[0m: 'response'",
      "\nDuring handling of the above exception, another exception occurred:\n",
      "\u001B[1;31mKeyError\u001B[0m                                  Traceback (most recent call last)",
      "Cell \u001B[1;32mIn[102], line 22\u001B[0m\n\u001B[0;32m     19\u001B[0m \u001B[38;5;28;01massert\u001B[39;00m os\u001B[38;5;241m.\u001B[39mpath\u001B[38;5;241m.\u001B[39misfile(path_requests_json)\n\u001B[0;32m     20\u001B[0m \u001B[38;5;28;01massert\u001B[39;00m os\u001B[38;5;241m.\u001B[39mpath\u001B[38;5;241m.\u001B[39misfile(path_instance_json)\n\u001B[1;32m---> 22\u001B[0m interaction_data: \u001B[38;5;28mdict\u001B[39m \u001B[38;5;241m=\u001B[39m \u001B[43mprepare_requests_json\u001B[49m\u001B[43m(\u001B[49m\u001B[43mpath\u001B[49m\u001B[38;5;241;43m=\u001B[39;49m\u001B[43mpath_requests_json\u001B[49m\u001B[43m,\u001B[49m\u001B[43m \u001B[49m\u001B[43mresponse_key\u001B[49m\u001B[38;5;241;43m=\u001B[39;49m\u001B[43mlookup_response_token_old\u001B[49m\u001B[43m[\u001B[49m\u001B[43mbenchmark_version\u001B[49m\u001B[43m]\u001B[49m\u001B[43m)\u001B[49m\n\u001B[0;32m     23\u001B[0m instance_data: \u001B[38;5;28mdict\u001B[39m \u001B[38;5;241m=\u001B[39m prepare_instance_data(path\u001B[38;5;241m=\u001B[39mpath_instance_json)\n",
      "Cell \u001B[1;32mIn[101], line 14\u001B[0m, in \u001B[0;36mprepare_requests_json\u001B[1;34m(path, response_key)\u001B[0m\n\u001B[0;32m     12\u001B[0m     \u001B[38;5;28;01mexcept\u001B[39;00m \u001B[38;5;167;01mKeyError\u001B[39;00m \u001B[38;5;28;01mas\u001B[39;00m e:\n\u001B[0;32m     13\u001B[0m         interactions[\u001B[38;5;124m'\u001B[39m\u001B[38;5;124mrequests\u001B[39m\u001B[38;5;124m'\u001B[39m]\u001B[38;5;241m.\u001B[39mappend(row\u001B[38;5;241m.\u001B[39mmanipulated_prompt_obj)\n\u001B[1;32m---> 14\u001B[0m         interactions[\u001B[38;5;124m'\u001B[39m\u001B[38;5;124mresponses\u001B[39m\u001B[38;5;124m'\u001B[39m]\u001B[38;5;241m.\u001B[39mappend(\u001B[43mrow\u001B[49m\u001B[38;5;241;43m.\u001B[39;49m\u001B[43mraw_response_obj\u001B[49m\u001B[43m[\u001B[49m\u001B[38;5;124;43m'\u001B[39;49m\u001B[38;5;124;43mcompletion\u001B[39;49m\u001B[38;5;124;43m'\u001B[39;49m\u001B[43m]\u001B[49m)\n\u001B[0;32m     17\u001B[0m \u001B[38;5;28;01mtry\u001B[39;00m:\n\u001B[0;32m     18\u001B[0m     \u001B[38;5;28;01massert\u001B[39;00m \u001B[38;5;28mlen\u001B[39m(interactions[\u001B[38;5;124m'\u001B[39m\u001B[38;5;124mrequests\u001B[39m\u001B[38;5;124m'\u001B[39m]) \u001B[38;5;241m==\u001B[39m \u001B[38;5;28mlen\u001B[39m(interactions[\u001B[38;5;124m'\u001B[39m\u001B[38;5;124mresponses\u001B[39m\u001B[38;5;124m'\u001B[39m])\n",
      "\u001B[1;31mKeyError\u001B[0m: 'completion'"
     ]
    }
   ],
   "source": [
    "for benchmark_version in benchmark_versions_old:\n",
    "    # read the raw_csv\n",
    "    raw_csv_data: pd.DataFrame = pd.read_csv(f'./{benchmark_version}/raw.csv')\n",
    "    \n",
    "    # group by metric to obtain all episode information\n",
    "    clean_csv_data: pd.DataFrame = group_raw_csv(data=raw_csv_data, columns_to_keep=columns_to_keep_raw_csv)\n",
    "    \n",
    "    # loop over all entries and build paths\n",
    "    for index, row in clean_csv_data.iterrows():\n",
    "        # skip image game:\n",
    "        if row.game == 'imagegame': continue\n",
    "        \n",
    "        # built paths\n",
    "        path_requests_json: str = f'./{benchmark_version}/{row.model}/{row.game}/{row.experiment}/{row.episode}/requests.json'\n",
    "        path_instance_json: str = f'./{benchmark_version}/{row.model}/{row.game}/{row.experiment}/{row.episode}/instance.json'\n",
    "        print(path_requests_json)\n",
    "        \n",
    "        # check that paths are correctly built\n",
    "        assert os.path.isfile(path_requests_json)\n",
    "        assert os.path.isfile(path_instance_json)\n",
    "        \n",
    "        interaction_data: dict = prepare_requests_json(path=path_requests_json, response_key=lookup_response_token_old[benchmark_version])\n",
    "        instance_data: dict = prepare_instance_data(path=path_instance_json)"
   ],
   "metadata": {
    "collapsed": false,
    "ExecuteTime": {
     "end_time": "2024-07-23T12:11:42.926706600Z",
     "start_time": "2024-07-23T12:11:42.109695300Z"
    }
   },
   "id": "545485eba0bc40e7"
  },
  {
   "cell_type": "code",
   "execution_count": 89,
   "outputs": [],
   "source": [
    "data: pd.DataFrame = pd.read_json('./v0.9/claude-v1.3-t0.0--claude-v1.3-t0.0/wordle/0_high_frequency_words_no_clue_no_critic/episode_0/requests.json')"
   ],
   "metadata": {
    "collapsed": false,
    "ExecuteTime": {
     "end_time": "2024-07-23T12:01:42.194604300Z",
     "start_time": "2024-07-23T12:01:42.174605500Z"
    }
   },
   "id": "9ebb7f5952dc847b"
  },
  {
   "cell_type": "code",
   "execution_count": 91,
   "outputs": [],
   "source": [
    "interactions: dict = {\n",
    "    'requests': [],\n",
    "    'responses': []\n",
    "}\n",
    "\n",
    "for index, row in data.iterrows():\n",
    "    interactions['requests'].append(row.manipulated_prompt_obj)\n",
    "    interactions['responses'].append(row.raw_response_obj['completion'])"
   ],
   "metadata": {
    "collapsed": false,
    "ExecuteTime": {
     "end_time": "2024-07-23T12:05:20.904823400Z",
     "start_time": "2024-07-23T12:05:20.889824900Z"
    }
   },
   "id": "aef272366f6062b8"
  },
  {
   "cell_type": "code",
   "execution_count": 86,
   "outputs": [
    {
     "data": {
      "text/plain": "'guess: soare'"
     },
     "execution_count": 86,
     "metadata": {},
     "output_type": "execute_result"
    }
   ],
   "source": [
    "interactions['responses'][0]"
   ],
   "metadata": {
    "collapsed": false,
    "ExecuteTime": {
     "end_time": "2024-07-23T12:01:03.843220300Z",
     "start_time": "2024-07-23T12:01:03.829219100Z"
    }
   },
   "id": "1210618a0ca456c0"
  },
  {
   "cell_type": "code",
   "execution_count": null,
   "outputs": [],
   "source": [],
   "metadata": {
    "collapsed": false
   },
   "id": "2a8472a16819c6e6"
  }
 ],
 "metadata": {
  "kernelspec": {
   "display_name": "Python 3",
   "language": "python",
   "name": "python3"
  },
  "language_info": {
   "codemirror_mode": {
    "name": "ipython",
    "version": 2
   },
   "file_extension": ".py",
   "mimetype": "text/x-python",
   "name": "python",
   "nbconvert_exporter": "python",
   "pygments_lexer": "ipython2",
   "version": "2.7.6"
  }
 },
 "nbformat": 4,
 "nbformat_minor": 5
}
