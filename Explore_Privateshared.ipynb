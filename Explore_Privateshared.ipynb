{
 "cells": [
  {
   "cell_type": "code",
   "execution_count": 8,
   "metadata": {
    "collapsed": true
   },
   "outputs": [],
   "source": [
    "import pandas as pd\n",
    "from pandas import DataFrame\n",
    "import os\n",
    "import json"
   ]
  },
  {
   "cell_type": "markdown",
   "source": [
    "# info\n",
    "Has a key that indicates whether a game was aborted or not\n",
    "\n",
    "two staged game:\n",
    "1. The questioner asks for specific information\n",
    "2. the answerer is asked if the questioner knows specific key information already or not.\n",
    "\n",
    "The main focus is on the probes (2) not the conversational stage (1).\n",
    "\n",
    "For knowledge distillation, both sides can be considered and included in a dataset.\n",
    "\n",
    "### Turns:\n",
    "in each turn object, there is a full round of probing.\n",
    "A turn begins with the questioner asking a questions to the answerer.\n",
    "Afterwards there is a full round of probing all probing questions."
   ],
   "metadata": {
    "collapsed": false
   }
  },
  {
   "cell_type": "code",
   "execution_count": null,
   "outputs": [],
   "source": [],
   "metadata": {
    "collapsed": false
   }
  },
  {
   "cell_type": "code",
   "execution_count": 9,
   "outputs": [],
   "source": [
    "top_level_directories: list = ['v0.9', 'v1.0', 'v1.5', 'v1.5_quantized', 'v1.6', 'v1.6_backends', 'v1.6_quantized']\n",
    "\n",
    "game: str = 'privateshared'\n",
    "\n",
    "# Change the variants according to the game above\n",
    "game_variants: list = ['3_things-places',  '2_restaurant',  '0_travel-booking', '1_job-interview', '4_letter-number']"
   ],
   "metadata": {
    "collapsed": false
   }
  },
  {
   "cell_type": "code",
   "execution_count": 10,
   "outputs": [
    {
     "data": {
      "text/plain": "['3_things-places',\n '2_restaurant',\n '0_travel-booking',\n '1_job-interview',\n '4_letter-number']"
     },
     "execution_count": 10,
     "metadata": {},
     "output_type": "execute_result"
    }
   ],
   "source": [
    "os.listdir('./v0.9/claude-v1.3-t0.0--claude-v1.3-t0.0/privateshared')"
   ],
   "metadata": {
    "collapsed": false
   }
  },
  {
   "cell_type": "code",
   "execution_count": 11,
   "outputs": [],
   "source": [
    "df_dict: dict = {\n",
    "    'benchmark_version': [],\n",
    "    'model_id': [],\n",
    "    'difficulty': [],\n",
    "    'number_of_turns': [],\n",
    "    'end_of_game_type': [],\n",
    "    'episode_number': [],\n",
    "    'accuracy': [],\n",
    "}"
   ],
   "metadata": {
    "collapsed": false
   }
  },
  {
   "cell_type": "code",
   "execution_count": 26,
   "outputs": [
    {
     "ename": "AttributeError",
     "evalue": "'dict' object has no attribute 'Aborted'",
     "output_type": "error",
     "traceback": [
      "\u001B[0;31m---------------------------------------------------------------------------\u001B[0m",
      "\u001B[0;31mAttributeError\u001B[0m                            Traceback (most recent call last)",
      "Cell \u001B[0;32mIn[26], line 31\u001B[0m\n\u001B[1;32m     28\u001B[0m last_turn: \u001B[38;5;28mlist\u001B[39m \u001B[38;5;241m=\u001B[39m interactions[\u001B[38;5;124m'\u001B[39m\u001B[38;5;124mturns\u001B[39m\u001B[38;5;124m'\u001B[39m][\u001B[38;5;241m-\u001B[39m\u001B[38;5;241m1\u001B[39m]\n\u001B[1;32m     30\u001B[0m \u001B[38;5;66;03m# get game ending\u001B[39;00m\n\u001B[0;32m---> 31\u001B[0m game_ending: \u001B[38;5;28mstr\u001B[39m \u001B[38;5;241m=\u001B[39m \u001B[43minteractions\u001B[49m\u001B[38;5;241;43m.\u001B[39;49m\u001B[43mAborted\u001B[49m\n\u001B[1;32m     33\u001B[0m \u001B[38;5;66;03m# For privateshared, there is no target word.\u001B[39;00m\n\u001B[1;32m     34\u001B[0m target_word: \u001B[38;5;28mstr\u001B[39m \u001B[38;5;241m=\u001B[39m last_turn[\u001B[38;5;241m-\u001B[39m\u001B[38;5;241m1\u001B[39m][\u001B[38;5;124m'\u001B[39m\u001B[38;5;124maction\u001B[39m\u001B[38;5;124m'\u001B[39m][\u001B[38;5;124m'\u001B[39m\u001B[38;5;124mdata_for_computation\u001B[39m\u001B[38;5;124m'\u001B[39m][\u001B[38;5;124m'\u001B[39m\u001B[38;5;124mtarget_word\u001B[39m\u001B[38;5;124m'\u001B[39m]\n",
      "\u001B[0;31mAttributeError\u001B[0m: 'dict' object has no attribute 'Aborted'"
     ]
    }
   ],
   "source": [
    "for top_level_directory in top_level_directories:\n",
    "    # loop over all directories with all variants of the benchmark\n",
    "    all_available_models: list = os.listdir(f'./{top_level_directory}')\n",
    "    # filter all files that are not a directory\n",
    "    all_available_models = [model_name for model_name in all_available_models if os.path.isdir(f'./{top_level_directory}/{model_name}')]\n",
    "    for model_name in all_available_models:\n",
    "        # for each model pick all episodes from the taboo game folder\n",
    "        for game_variant in game_variants:\n",
    "            path_to_episodes: str = f'./{top_level_directory}/{model_name}/{game}/{game_variant}'\n",
    "            if not  os.path.isdir(path_to_episodes):\n",
    "                continue\n",
    "\n",
    "            all_episodes: list =  os.listdir(path_to_episodes)\n",
    "            # filter all file names that do not start with episode to ensure to not read files without episodes\n",
    "            all_episodes = [episode for episode in all_episodes if episode.startswith('episode')]\n",
    "\n",
    "            # loop over all episodes to check whether an episode ended with success or any problems\n",
    "            for episode in all_episodes:\n",
    "                path_interactions: str = f'./{top_level_directory}/{model_name}/{game}/{game_variant}/{episode}/interactions.json'\n",
    "                path_instances: str = f'./{top_level_directory}/{model_name}/{game}/{game_variant}/{episode}/instance.json'\n",
    "\n",
    "                if os.path.isfile(path_interactions) and os.path.isfile(path_instances):\n",
    "                    # open the interaction.json file to read all interactions\n",
    "                    with open(path_interactions,  encoding=\"utf8\") as json_file:\n",
    "                        interactions: dict = json.load(json_file)\n",
    "\n",
    "                        # get the last turn of the interaction\n",
    "                        last_turn: list = interactions['turns'][-1]\n",
    "\n",
    "                        # get game ending\n",
    "                        game_ending: str = interactions.Aborted\n",
    "\n",
    "                        # For privateshared, there is no target word.\n",
    "                        target_word: str = last_turn[-1]['action']['data_for_computation']['target_word']\n",
    "\n",
    "                        # add information to df_dict\n",
    "                        df_dict['benchmark_version'].append(top_level_directory)\n",
    "                        df_dict['model_id'].append(model_name)\n",
    "                        df_dict['difficulty'].append(game_variant)\n",
    "                        df_dict['number_of_turns'].append(len(interactions['turns']))\n",
    "                        df_dict['end_of_game_type'].append(game_ending)\n",
    "                        df_dict['episode_number'].append(episode)\n",
    "                        df_dict['target_word'].append(target_word)"
   ],
   "metadata": {
    "collapsed": false
   }
  },
  {
   "cell_type": "code",
   "execution_count": 21,
   "outputs": [
    {
     "name": "stderr",
     "output_type": "stream",
     "text": [
      "/var/folders/3v/xyx3_dxn5d138hmbm5hdw_qw0000gn/T/ipykernel_93023/3924334536.py:1: FutureWarning: The behavior of 'to_datetime' with 'unit' when parsing strings is deprecated. In a future version, strings will be parsed as datetime strings, matching the behavior without a 'unit'. To retain the old behavior, explicitly cast ints or floats to numeric type before calling to_datetime.\n",
      "  data = pd.read_json('v0.9/claude-v1.3-t0.0--claude-v1.3-t0.0/privateshared/0_travel-booking/episode_0/scores.json')\n",
      "/var/folders/3v/xyx3_dxn5d138hmbm5hdw_qw0000gn/T/ipykernel_93023/3924334536.py:1: FutureWarning: The behavior of 'to_datetime' with 'unit' when parsing strings is deprecated. In a future version, strings will be parsed as datetime strings, matching the behavior without a 'unit'. To retain the old behavior, explicitly cast ints or floats to numeric type before calling to_datetime.\n",
      "  data = pd.read_json('v0.9/claude-v1.3-t0.0--claude-v1.3-t0.0/privateshared/0_travel-booking/episode_0/scores.json')\n",
      "/var/folders/3v/xyx3_dxn5d138hmbm5hdw_qw0000gn/T/ipykernel_93023/3924334536.py:1: FutureWarning: The behavior of 'to_datetime' with 'unit' when parsing strings is deprecated. In a future version, strings will be parsed as datetime strings, matching the behavior without a 'unit'. To retain the old behavior, explicitly cast ints or floats to numeric type before calling to_datetime.\n",
      "  data = pd.read_json('v0.9/claude-v1.3-t0.0--claude-v1.3-t0.0/privateshared/0_travel-booking/episode_0/scores.json')\n"
     ]
    },
    {
     "data": {
      "text/plain": "19"
     },
     "execution_count": 21,
     "metadata": {},
     "output_type": "execute_result"
    }
   ],
   "source": [
    "data = pd.read_json('v0.9/claude-v1.3-t0.0--claude-v1.3-t0.0/privateshared/0_travel-booking/episode_0/scores.json')\n",
    "len(data)"
   ],
   "metadata": {
    "collapsed": false
   }
  },
  {
   "cell_type": "code",
   "execution_count": 25,
   "outputs": [
    {
     "name": "stdout",
     "output_type": "stream",
     "text": [
      "{'Request Count': 6, 'Parsed Request Count': 6, 'Violated Request Count': 0, 'Accuracy': 0.6000000000000001, 'Slot Filled?': 1}\n"
     ]
    }
   ],
   "source": [
    "print(data['turn scores'].iloc[5])"
   ],
   "metadata": {
    "collapsed": false
   }
  },
  {
   "cell_type": "code",
   "execution_count": null,
   "outputs": [],
   "source": [],
   "metadata": {
    "collapsed": false
   }
  }
 ],
 "metadata": {
  "kernelspec": {
   "display_name": "Python 3",
   "language": "python",
   "name": "python3"
  },
  "language_info": {
   "codemirror_mode": {
    "name": "ipython",
    "version": 2
   },
   "file_extension": ".py",
   "mimetype": "text/x-python",
   "name": "python",
   "nbconvert_exporter": "python",
   "pygments_lexer": "ipython2",
   "version": "2.7.6"
  }
 },
 "nbformat": 4,
 "nbformat_minor": 0
}
